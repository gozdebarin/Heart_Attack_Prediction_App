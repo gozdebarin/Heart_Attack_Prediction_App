{
  "cells": [
    {
      "cell_type": "markdown",
      "metadata": {
        "id": "DQHh08An-G0W"
      },
      "source": [
        "# **Heart Attack Analysis & Prediction | Supervised Machine Learning**\n"
      ]
    },
    {
      "cell_type": "markdown",
      "metadata": {
        "id": "nGCSQN7O-C-R"
      },
      "source": [
        "#  Reading Data & First Glance"
      ]
    },
    {
      "cell_type": "code",
      "execution_count": 2,
      "metadata": {
        "id": "SiTVo_7g6ElY"
      },
      "outputs": [],
      "source": [
        "# updating scikit-learn\n",
        "# !pip install scikit-learn --upgrade\n",
        "\n",
        "#import libraries\n",
        "import pandas as pd\n",
        "import numpy as np\n",
        "\n",
        "#Visualization\n",
        "import matplotlib.pyplot as plt\n",
        "import seaborn as sns\n",
        "import plotly.express as px\n",
        "import plotly.graph_objects as go\n",
        "from plotly.subplots import make_subplots\n",
        "\n",
        "#Data Preprocessing\n",
        "from sklearn.model_selection import train_test_split\n",
        "from sklearn.preprocessing import StandardScaler, MinMaxScaler\n",
        "\n",
        "#Basic Models\n",
        "from sklearn.linear_model import LogisticRegression\n",
        "from sklearn.neighbors import KNeighborsClassifier\n",
        "from sklearn.naive_bayes import GaussianNB\n",
        "from sklearn.svm import LinearSVC\n",
        "from sklearn.svm import SVC\n",
        "from sklearn.tree import DecisionTreeClassifier\n",
        "from sklearn.ensemble import RandomForestClassifier\n",
        "import time\n",
        "\n",
        "#scaling\n",
        "from sklearn.preprocessing import StandardScaler, MinMaxScaler, RobustScaler\n",
        "\n",
        "#Metrics (Computation)\n",
        "from sklearn.metrics import precision_recall_fscore_support as score\n",
        "from sklearn.metrics import confusion_matrix,accuracy_score\n",
        "from sklearn.metrics import mean_squared_error,r2_score\n",
        "from sklearn.model_selection import GridSearchCV\n",
        "\n",
        "#Boosting Algorithms\n",
        "from sklearn.ensemble import GradientBoostingClassifier\n",
        "from sklearn.ensemble import AdaBoostClassifier\n",
        "\n",
        "#Neural Network Model\n",
        "from sklearn.neural_network import MLPClassifier\n",
        "\n",
        "import warnings\n",
        "warnings.filterwarnings(\"ignore\")"
      ]
    },
    {
      "cell_type": "code",
      "execution_count": 3,
      "metadata": {
        "id": "-6i46ruz8f-y"
      },
      "outputs": [],
      "source": [
        "# import data\n",
        "url = \"https://drive.google.com/file/d/1qvkCXkhZ54m8Su7n5BKPm9-1Mz4RlHsP/view?usp=share_link\"\n",
        "path = 'https://drive.google.com/uc?export=download&id='+url.split('/')[-2]\n",
        "heart = pd.read_csv(path)"
      ]
    },
    {
      "cell_type": "code",
      "execution_count": 4,
      "metadata": {
        "colab": {
          "base_uri": "https://localhost:8080/",
          "height": 0
        },
        "id": "qiGR0cj48vj1",
        "outputId": "aa4861f2-1466-4652-e686-d95f92f005cf"
      },
      "outputs": [
        {
          "data": {
            "text/html": [
              "<div>\n",
              "<style scoped>\n",
              "    .dataframe tbody tr th:only-of-type {\n",
              "        vertical-align: middle;\n",
              "    }\n",
              "\n",
              "    .dataframe tbody tr th {\n",
              "        vertical-align: top;\n",
              "    }\n",
              "\n",
              "    .dataframe thead th {\n",
              "        text-align: right;\n",
              "    }\n",
              "</style>\n",
              "<table border=\"1\" class=\"dataframe\">\n",
              "  <thead>\n",
              "    <tr style=\"text-align: right;\">\n",
              "      <th></th>\n",
              "      <th>age</th>\n",
              "      <th>sex</th>\n",
              "      <th>cp</th>\n",
              "      <th>trtbps</th>\n",
              "      <th>chol</th>\n",
              "      <th>fbs</th>\n",
              "      <th>restecg</th>\n",
              "      <th>thalachh</th>\n",
              "      <th>exng</th>\n",
              "      <th>oldpeak</th>\n",
              "      <th>slp</th>\n",
              "      <th>caa</th>\n",
              "      <th>thall</th>\n",
              "      <th>output</th>\n",
              "    </tr>\n",
              "  </thead>\n",
              "  <tbody>\n",
              "    <tr>\n",
              "      <th>0</th>\n",
              "      <td>63</td>\n",
              "      <td>1</td>\n",
              "      <td>3</td>\n",
              "      <td>145</td>\n",
              "      <td>233</td>\n",
              "      <td>1</td>\n",
              "      <td>0</td>\n",
              "      <td>150</td>\n",
              "      <td>0</td>\n",
              "      <td>2.3</td>\n",
              "      <td>0</td>\n",
              "      <td>0</td>\n",
              "      <td>1</td>\n",
              "      <td>1</td>\n",
              "    </tr>\n",
              "    <tr>\n",
              "      <th>1</th>\n",
              "      <td>37</td>\n",
              "      <td>1</td>\n",
              "      <td>2</td>\n",
              "      <td>130</td>\n",
              "      <td>250</td>\n",
              "      <td>0</td>\n",
              "      <td>1</td>\n",
              "      <td>187</td>\n",
              "      <td>0</td>\n",
              "      <td>3.5</td>\n",
              "      <td>0</td>\n",
              "      <td>0</td>\n",
              "      <td>2</td>\n",
              "      <td>1</td>\n",
              "    </tr>\n",
              "    <tr>\n",
              "      <th>2</th>\n",
              "      <td>41</td>\n",
              "      <td>0</td>\n",
              "      <td>1</td>\n",
              "      <td>130</td>\n",
              "      <td>204</td>\n",
              "      <td>0</td>\n",
              "      <td>0</td>\n",
              "      <td>172</td>\n",
              "      <td>0</td>\n",
              "      <td>1.4</td>\n",
              "      <td>2</td>\n",
              "      <td>0</td>\n",
              "      <td>2</td>\n",
              "      <td>1</td>\n",
              "    </tr>\n",
              "    <tr>\n",
              "      <th>3</th>\n",
              "      <td>56</td>\n",
              "      <td>1</td>\n",
              "      <td>1</td>\n",
              "      <td>120</td>\n",
              "      <td>236</td>\n",
              "      <td>0</td>\n",
              "      <td>1</td>\n",
              "      <td>178</td>\n",
              "      <td>0</td>\n",
              "      <td>0.8</td>\n",
              "      <td>2</td>\n",
              "      <td>0</td>\n",
              "      <td>2</td>\n",
              "      <td>1</td>\n",
              "    </tr>\n",
              "    <tr>\n",
              "      <th>4</th>\n",
              "      <td>57</td>\n",
              "      <td>0</td>\n",
              "      <td>0</td>\n",
              "      <td>120</td>\n",
              "      <td>354</td>\n",
              "      <td>0</td>\n",
              "      <td>1</td>\n",
              "      <td>163</td>\n",
              "      <td>1</td>\n",
              "      <td>0.6</td>\n",
              "      <td>2</td>\n",
              "      <td>0</td>\n",
              "      <td>2</td>\n",
              "      <td>1</td>\n",
              "    </tr>\n",
              "  </tbody>\n",
              "</table>\n",
              "</div>"
            ],
            "text/plain": [
              "   age  sex  cp  trtbps  chol  fbs  restecg  thalachh  exng  oldpeak  slp  \\\n",
              "0   63    1   3     145   233    1        0       150     0      2.3    0   \n",
              "1   37    1   2     130   250    0        1       187     0      3.5    0   \n",
              "2   41    0   1     130   204    0        0       172     0      1.4    2   \n",
              "3   56    1   1     120   236    0        1       178     0      0.8    2   \n",
              "4   57    0   0     120   354    0        1       163     1      0.6    2   \n",
              "\n",
              "   caa  thall  output  \n",
              "0    0      1       1  \n",
              "1    0      2       1  \n",
              "2    0      2       1  \n",
              "3    0      2       1  \n",
              "4    0      2       1  "
            ]
          },
          "execution_count": 4,
          "metadata": {},
          "output_type": "execute_result"
        }
      ],
      "source": [
        "heart.head()"
      ]
    },
    {
      "cell_type": "markdown",
      "metadata": {
        "id": "BX2b8Fo0Bv8R"
      },
      "source": [
        "# Exploratory Data Analysis"
      ]
    },
    {
      "cell_type": "markdown",
      "metadata": {
        "id": "Zg41lAA76CKZ"
      },
      "source": [
        "## 3.3.Data Cleaning"
      ]
    },
    {
      "cell_type": "markdown",
      "metadata": {
        "id": "l9pCtRbx6nr9"
      },
      "source": [
        "The purpose of data cleaning is to get our data ready to analyze and visualize."
      ]
    },
    {
      "cell_type": "markdown",
      "metadata": {
        "id": "dbEt21ug-xPT"
      },
      "source": [
        "### Check the missing values"
      ]
    },
    {
      "cell_type": "code",
      "execution_count": 5,
      "metadata": {
        "colab": {
          "base_uri": "https://localhost:8080/"
        },
        "id": "-sbjzXHo-sOJ",
        "outputId": "5cd22d01-8490-43a4-e44c-7f0d5d11b499"
      },
      "outputs": [
        {
          "data": {
            "text/plain": [
              "age         0\n",
              "sex         0\n",
              "cp          0\n",
              "trtbps      0\n",
              "chol        0\n",
              "fbs         0\n",
              "restecg     0\n",
              "thalachh    0\n",
              "exng        0\n",
              "oldpeak     0\n",
              "slp         0\n",
              "dtype: int64"
            ]
          },
          "execution_count": 5,
          "metadata": {},
          "output_type": "execute_result"
        }
      ],
      "source": [
        "# check if there are any Null values\n",
        "heart.isnull().sum().sort_values(ascending=False).head(11)"
      ]
    },
    {
      "cell_type": "code",
      "execution_count": 8,
      "metadata": {
        "id": "-jwHPp41sqgf"
      },
      "outputs": [],
      "source": [
        "# replace missing values with median\n",
        "# heart = heart.fillna(heart.median())"
      ]
    },
    {
      "cell_type": "markdown",
      "metadata": {
        "id": "hhVNKmbaGzf-"
      },
      "source": [
        "**CONCLUSION**: As we can see here, there are no missing values in this case"
      ]
    },
    {
      "cell_type": "markdown",
      "metadata": {
        "id": "hy1GLHOlBEPE"
      },
      "source": [
        "### Check the duplicate rows"
      ]
    },
    {
      "cell_type": "code",
      "execution_count": 6,
      "metadata": {
        "colab": {
          "base_uri": "https://localhost:8080/"
        },
        "id": "ax_vzp2zBJaP",
        "outputId": "b313e456-501c-4f6e-bf28-c622979713ac"
      },
      "outputs": [
        {
          "data": {
            "text/plain": [
              "1"
            ]
          },
          "execution_count": 6,
          "metadata": {},
          "output_type": "execute_result"
        }
      ],
      "source": [
        "# check duplicated values\n",
        "heart.duplicated().sum()"
      ]
    },
    {
      "cell_type": "code",
      "execution_count": 7,
      "metadata": {
        "id": "dpEBoG4fBOkA"
      },
      "outputs": [],
      "source": [
        "# drop duplicated values\n",
        "heart.drop_duplicates(keep='first',inplace=True)"
      ]
    },
    {
      "cell_type": "code",
      "execution_count": 8,
      "metadata": {
        "colab": {
          "base_uri": "https://localhost:8080/"
        },
        "id": "vKu3aWASBXu9",
        "outputId": "8b616baa-b855-4645-b92b-336a31b8cd9b"
      },
      "outputs": [
        {
          "data": {
            "text/plain": [
              "0"
            ]
          },
          "execution_count": 8,
          "metadata": {},
          "output_type": "execute_result"
        }
      ],
      "source": [
        "heart.duplicated().sum()"
      ]
    },
    {
      "cell_type": "markdown",
      "metadata": {
        "id": "K9Stve-5G234"
      },
      "source": [
        "**CONCLUSION**: Now our data is clean.\n",
        "\n",
        "\n",
        "\n"
      ]
    },
    {
      "cell_type": "markdown",
      "metadata": {
        "id": "ilbtM4M28jX7"
      },
      "source": [
        "## 3.6.Outliers and how to remove them"
      ]
    },
    {
      "cell_type": "markdown",
      "metadata": {
        "id": "veoHbklI8pmX"
      },
      "source": [
        "We will use the IQR (Inter-Quartile Range) method to detect outliners and then visualize them with the help of boxplots."
      ]
    },
    {
      "cell_type": "code",
      "execution_count": 9,
      "metadata": {
        "colab": {
          "base_uri": "https://localhost:8080/"
        },
        "id": "K6tHA3c78ms9",
        "outputId": "f163bb73-fa74-403a-c15c-9875a5acfb3f"
      },
      "outputs": [
        {
          "name": "stdout",
          "output_type": "stream",
          "text": [
            "Column age outliers = 0 => 0.0%\n",
            "Column trtbps outliers = 13 => 4.305%\n",
            "Column chol outliers = 5 => 1.656%\n",
            "Column thalachh outliers = 1 => 0.331%\n",
            "Column oldpeak outliers = 8 => 2.649%\n"
          ]
        }
      ],
      "source": [
        "continuous_cols=[\"age\",\"trtbps\",\"chol\",\"thalachh\",\"oldpeak\"]\n",
        "continuous_data=heart[continuous_cols]\n",
        "\n",
        "for k, v in continuous_data.items():\n",
        "        q1 = v.quantile(0.25)\n",
        "        q3 = v.quantile(0.75)\n",
        "        irq = q3 - q1\n",
        "        v_col = v[(v <= q1 - 1.5 * irq) | (v >= q3 + 1.5 * irq)]\n",
        "        perc = np.shape(v_col)[0] * 100.0 / np.shape(heart)[0]\n",
        "        print(\"Column {} outliers = {} => {}%\".format(k,len(v_col),round((perc),3)))"
      ]
    },
    {
      "cell_type": "code",
      "execution_count": 10,
      "metadata": {
        "colab": {
          "base_uri": "https://localhost:8080/",
          "height": 0
        },
        "id": "7q050dN-81_a",
        "outputId": "be129eaa-7eec-4b11-9202-0b011e8e6894"
      },
      "outputs": [
        {
          "data": {
            "image/png": "[encoded data removed]",
            "text/plain": [
              "<Figure size 800x600 with 4 Axes>"
            ]
          },
          "metadata": {},
          "output_type": "display_data"
        },
        {
          "name": "stdout",
          "output_type": "stream",
          "text": [
            "Outliers Present at position: \n",
            "\n",
            "trtbps: (array([  8, 101, 110, 152, 194, 202, 222, 227, 240, 247, 259, 265, 291]),)\n",
            "chol: (array([ 28,  85,  96, 219, 245]),)\n",
            "thalachh: (array([271]),)\n",
            "oldpeak: (array([101, 203, 220, 249, 290]),)\n"
          ]
        }
      ],
      "source": [
        "sns.set_style(\"white\")\n",
        "\n",
        "fig, ax1 = plt.subplots(2,2, figsize=(8,6))\n",
        "k = 0\n",
        "for i in range(2):\n",
        "    for j in range(2):\n",
        "        sns.boxplot(data=heart,x=heart[continuous_cols[1:][k]],saturation=1,ax=ax1[i][j],color=\"green\")\n",
        "        k+=1\n",
        "plt.tight_layout()\n",
        "plt.show()\n",
        "\n",
        "#Display the position of outliers\n",
        "print(\"Outliers Present at position: \\n\")\n",
        "print(\"trtbps: {}\".format(np.where(heart['trtbps']>165)))\n",
        "print(\"chol: {}\".format(np.where(heart['chol']>360)))\n",
        "print(\"thalachh: {}\".format(np.where(heart['thalachh']<80)))\n",
        "print(\"oldpeak: {}\".format(np.where(heart['oldpeak']>4)))"
      ]
    },
    {
      "cell_type": "markdown",
      "metadata": {
        "id": "Di62jgi-9QZz"
      },
      "source": [
        "Clearly, there arent many outliers but we still have to try to minimize them as much as we can. We can take the log of these columns to bring all values within a range and minimize the outliners."
      ]
    },
    {
      "cell_type": "code",
      "execution_count": 14,
      "metadata": {
        "id": "rXPRtnjz9TLS"
      },
      "outputs": [],
      "source": [
        "#Using log transformation\n",
        "# heart[\"trtbps\"]= np.log(heart.trtbps)\n",
        "\n",
        "# print(\"---Log Transform performed---\")"
      ]
    },
    {
      "cell_type": "code",
      "execution_count": 11,
      "metadata": {
        "colab": {
          "base_uri": "https://localhost:8080/"
        },
        "id": "LZS2c5IB9h3p",
        "outputId": "03d7ddff-4c62-438f-fdc2-d450a189968c"
      },
      "outputs": [
        {
          "name": "stdout",
          "output_type": "stream",
          "text": [
            "Column age outliers = 0 => 0.0%\n",
            "Column trtbps outliers = 13 => 4.305%\n",
            "Column chol outliers = 5 => 1.656%\n",
            "Column thalachh outliers = 1 => 0.331%\n",
            "Column oldpeak outliers = 8 => 2.649%\n"
          ]
        }
      ],
      "source": [
        "#Outliers again\n",
        "continuous_cols=[\"age\",\"trtbps\",\"chol\",\"thalachh\",\"oldpeak\"]\n",
        "continuous_data=heart[continuous_cols]\n",
        "\n",
        "for k, v in continuous_data.items():\n",
        "        q1 = v.quantile(0.25)\n",
        "        q3 = v.quantile(0.75)\n",
        "        irq = q3 - q1\n",
        "        v_col = v[(v <= q1 - 1.5 * irq) | (v >= q3 + 1.5 * irq)]\n",
        "        perc = np.shape(v_col)[0] * 100.0 / np.shape(heart)[0]\n",
        "        print(\"Column {} outliers = {} => {}%\".format(k,len(v_col),round((perc),3)))"
      ]
    },
    {
      "cell_type": "markdown",
      "metadata": {
        "id": "p_cWtbww9ZHu"
      },
      "source": [
        "After performing the log transform a significant number of outliners was reduced as observed above."
      ]
    },
    {
      "cell_type": "markdown",
      "metadata": {
        "id": "tl-n0t3AxM3V"
      },
      "source": [
        "### **Inferences So Far**\n",
        "\n",
        "- The dataset contains 303 Rows and 14 Columns.\n",
        "- We don’t have any missing values in the dataset.\n",
        "- We could see that the data is right skewed for most of the features.\n",
        "- There is no imbalance in the dataset. The distribution of the target column is balanced.\n",
        "\n",
        "The EDA is not completed yet. We have to do some Data Visualization tasks to understand the data better."
      ]
    },
    {
      "cell_type": "markdown",
      "metadata": {
        "id": "AGW6T2amddT4"
      },
      "source": [
        "# 5.Splitting Data into Training and Test Set"
      ]
    },
    {
      "cell_type": "markdown",
      "metadata": {
        "id": "IaJkb5DQdnSb"
      },
      "source": [
        "![train-test-split.jpeg](data:image/jpeg;base64,/9j/4AAQSkZJRgABAQAAAQABAAD/2wCEAAUFBQUFBQUGBgUICAcICAsKCQkKCxEMDQwNDBEaEBMQEBMQGhcbFhUWGxcpIBwcICkvJyUnLzkzMzlHREddXX0BBQUFBQUFBQYGBQgIBwgICwoJCQoLEQwNDA0MERoQExAQExAaFxsWFRYbFykgHBwgKS8nJScvOTMzOUdER11dff/CABEIARkDKgMBIgACEQEDEQH/xAA3AAEAAgMBAQEBAAAAAAAAAAAABgcDBAUIAgEJAQEAAQUBAQAAAAAAAAAAAAAAAgEEBQYHAwj/2gAMAwEAAhADEAAAAPZYAAAAAAAAAAAAAAAAAAAAAAAAAAAAAAAAAAAAAAAAAAAAAAAAAAAAAAAAAAAAAAAAAAAAAAAAAAAAAAANWn7Xp4vSrbHpQm35H4sWZPqYucA5H3Ws5OdzM8MJbsU5ZRaGzHJGAAAAAAAAAAAAAAIVNarJPlgERLr4P7wSW4ah5Z6LzUPzD0ZzaEmRfIAAAAAAFT2xRhajzd0C7ZJ593C4c3n4ejOnTdyCGzKOHJ6tf1meh89c0yelZx5h9OH2AAABFpTDlKe+9nLl+QRXtcCXxuKunXPk9YcVl/Vc3FlEUO797ejG6v8A40pwYrqHl+YaUw4FtK0attPsmvfQzVuAAAAAAAAAAAAAg05rg6vGsuGGttSXdKv72lPysO7oWCQHWnPKNCO2pWp2OfYUIJuAAAACE1pOYNe6b88rrxP31yVczqxtSRc/pcGse19Ys9fPidiIzGNxuXp559C2W8cmm7brDnm3xqcbH5hbi1h1bCAAAAITNocjQ2Xv5c3xGsZVqS+FxXMi+JPLzhKQ/qvPjFlxNLY+JPowu/R+DPgw/XvL8nxy/wCa9x51y1XafeNX+hnbYAAACtOrzLJISmwhKbCEpsISmwhKbCEpsITDrnrssQCoLfrYyRK64acXel++UXNvmwCh518WCVjzLS45yK+v+tDdjtwQsnYAAAAK0qS3obmeWRKNWlFsno+PgWZHHnq8axuHWHJyyfNLwqiVfEw872OenPPvoLA9fj9FXrEuSb9EexNeFr3vZg7fhwAAAEOmMJRqjLwsub4jypbXkrhc6Ulgkjl5/f1x/wBJVFujGKSn+np4Y3fqbBnwYfr3n2XVvKfmvcJFa9O3F3nWP0Zy2AAAAraya2skAAAAAAV3YldliAVxY9RluQzWiBb27Wu8fE/omdGKwaJnRLuVGOUW/Wu9XZ6AhGKNlwAAAAAreGS+m8xy+axbTjOR0i243zuBWFqcLj8WsLIzwPPK3yzCoJVC+lnoLy96gwXW+DEZd595Nvt5cSv5Lr1zc47bhQAAAEOmMJRq/LDsmb4l8y+qpRC5zSesZC8+x+xT9Vn0U+Y2laOjwEbr1dgz4MR12gpfUkm+bdvmvTjHZ7trMp52/E87bSb5ryyzSyxWbGvy8EXJ21uIaNz+cPR4AAAAAAruxK7LEArix6gLfhmnDi492r+iJ/Qk8PmwaCnxMeVEeWXLWu3XJ6FhGvGC5gAAAAVvBprTN9ocxieKNXWrWtG9LgI2hweZxqxsPPCcryTGppRS6lnoTy76ix/QuBWFn+fOY7zZ/wCQeTYC7ugdl10AAABDpjCUavyxDLm+I4pfVsojcfcnrSQ1h1PqLfSs7in7GYrQ0eGjeeq8GfBiOvUFL6nlHzbuExtOmrl7trH6M7bVdV3qIeV6V/ojGTrdEAK2smtrJAAAAAAFd2JXZYgFcWPU5bEM+oeWpuwLcNGf0pOjn2DSc7JHyuFzC0617NeF6QjNFy2QAAAAVtB5tUd/oEmieaM3eqWZG/ngKWLwdfjIzjPE8tfHVmNXyqF3IPQ3mP05j+jR+sLPofl29WJ+RTu69dXIO1a6AAAAh0xhyNVZceTO8HiEvh8wpdRiTxmTPPk/RSvUicsiisr0d7Rhe+j8GfBhuy0FL4hL/l/dFq1Vav0DqgbBbFc4yykAE/QacgFbWTW1kgAAAAACu7ErssQCr7Qrgl8NsqGG5v7e6VTPoxPyqJ/FrBIvzJbyjbre4K1JlD7IhBDLX1NopGX2B8Fb4LEgZ8dHo98gUftPVI3FZlDcjzz9iUsid1qMtjUkjakl4He4NYdfY187zh0yhsxpdYfQ/nj0PjOlx2sbOrHk+/dvm9Jrl3Jf3vdHuetUx821ySrbG7PRKUyTPokagF9xEisSu6NI1DkkeXN8Oq6U4JfG5rWRfsnl5wX9kf1SXLjVmxMyfkp0Y3fo/BnwYbsPlyUfMv8AmrcedctV8nvOr3WpTXzttM/mK5zqcTFnOpa1DfpfCh5Ebtk1tZIARgSdyuaSdGpGfTi9g+nI64ruxK7LEAqS264OtCrmhhzepJN0o+f6M/KNsHn2CV1ybN5Ro1rfdanZiduwgm4FM3MPLvE9ej+fvvvOAK0qi2obn+QxeNWbFstz1H7JjdYY+LYXDrDmZpHmna1ZKsMv8sjHvTPn30Frfa+BTlyxDjvQ+Jty/ha57WYRfumKlFadffKC+L9/Twd/QSOyM6aCTYywibQ9Hz1lleXN8UqeUfsvh71bItmT1jXqW/pw41asUpLF+y/Rjd+j8GfBiOt+UpLty/5x27lWrX9qd01mBd6QM3bxjkTvyFONuTeQ+U609Q4e685x/Y7Araya2skApLjehhTfIvsedOP6jHlHY9TCETcFd2JXZYgFO3FXB+RC94YRrfnm6ef5xsz88/TjYsEqfm25yiNV76KrU+o7dUIJuAAAACs6mt2DZPnMcjVkRO90/Zj9hxuUf3iz3g0hp5+5nl41lKtGYwvOJ6Z8+ehMT06P0rddYcp3356W21+4tU+O2YGvIvLcBqc7V7hx5JG+0bFiV7Ywh8wKeY8nphd6l5DknpdSfkrvellYeWXqcn5oj3rdSnml6X/aerT3Fts/mWSXo0PKVLbX62/H/ovfPUq2fefvSPqCo7R8jnsMecgK2smtrJAAAAAAFd2JXZYgFYWfVBP4Z34aTrcj+4RWfVfPCKT+r54ffL/eWTit5pXJbUQ7cVLWAAAABWlUWzDMxy2MxizYvkdH+o9Y8clD44lg8JDQzd/PPwq6V6sw877g+mPPvoLBdd4FGXnEOR7/ABPtS/i6772biyu44WIyOB1mXFt0zvFh9Ojxffd/P0AAFJl2OFFixlOdEtJWllgBwtQlDiViXSp39LhAoe+FaUzN5eUCkgK2smtrJAAAAAAFd2JXZYgFcWPURbsM14gW7u1xuGOf0VOjDYNEzslvKjPJLfrXfrsv+EY44W8AAAACt4bLqczPLZrFtONZLSLajnN4FfO1OFx+PWNjZ4Llrb5pfUMp876W3/5h9P4LrnAiUtoHk2+3hwoJIdeuLm1drQ7bh+ZhivcNuNwjpFswXd5hYXZq+0AQ9SXvMOXL879MVxRshj72N8VD21JVlgQu2c+Z+Aet/wA80fUfb0LUF5amM3mFQjlyXQLrZ0+nau5W/wCi9iAAABW1k1tZIAAAAAAruxK7LEArix6hLehmlDi5N2sNozT+hZ0flg0HPCZcqI8wuStdquj0LCNaNFygAAAAriCzWl7/AEKZxPBHLrVbWjehwkbQ4PK49Y2Jng2aXl9TGpJRC5lvoby56ix/RY/WNn+e+XbzaH5BpNgLu6aeuGNdn12t8013yDyrb4pE+pJ98gsoz9U7EJm0IrCt8sVy738oasvrCVeOQ/JNXEir49L9jZObRTNGVLL0OTj8cl6jwZ8Gm/SlQzanpd8uZzszettD6FxN06XzQ+f8fRDzLahON7zNb5OPrytMy78/m+QEnsnz76CAAAAAAFd2JXZYgFcWPW5ZEMmEJJZu83fIHP67sEgNg11YRqcre5RKq1sesi0IRNIOTsAAAAFbwabVbf6D3In0IvdalYkb2I6T7g/XDecxzxzNKHLmNbyyNx1vQ3mn0tjujx+sLOpPlu9zn8j/AFdeu7hHa9cA80PS4qm1gAQmbQisK3yxzLvnybz5dW8q8shryav5FXx2/rgfScuiu5GKLF0efh8sj6ewZ8Gl/S9RTWpph8s5vfsmqLW+hsT+jYfLBwN+lS26059cnrfoV9YI4vaFTWzW1kgAAAAACu7ErssQDi9oQz9mQhv5MxC/2ZiGJmIYmYhn3MBDNmVAAAAAD51tspqNsanzujUbY1G2NP8Adsam2K/mrtqNTLmAVAAAAITNoTWFY5f3J0D5Bhkuisv8clFZLH5LLx4/19/VJ7kUmEUqk2j09LwyPofBnwaR9Q05NIjNvk7O8GzK2sn6Qw4bF5AAAARfnzgQdOBB04EHTgQdOBB04EHTgQfnWSAAAAAAAAAAAAAAAAAAAAAAAAAAAAHO6IqH9tx642mtm3CtOZ7cFQLfFR61yiotu0P1X6xZXlkKl2rQY6cNmL9vIB6gAAAAAAAAAAAAAAAAAAAAAAAAAAAAAAAAAAAAAAAAAAAAAAAAAAAAAAAAAAAAAAAP/8QAURAAAAYBAQMHCAcFBQQIBwAAAQIDBAUGAAcQNnUREhMUFRZWFyAhMFVXc3QxMzQ1QVF2IjJSU1QjZXFyhBgkJSYIN0BCRFBggWFmcICRobH/2gAIAQEAARIA/wDsGepulGjlNquCDkUzAirHahWKZXY1VtHAjaG7no5tTD6lM46fvLWVQWbR0Eg0UF0nqXXFSMgSbyqjl0CpkWiN5iJRzUV46XL1ORF8BkYfU2qzTmJbtFXZRkueDBxtUnoxvOsoNZQ4PnbZVwgWJl2E22VdMFDKJJuVm4ntFsUrkvUWQMFlySjxVFQyWrFOXSk1iOXvV2AnIu5kdQYkYizii6cxb+MYldKBI6l1mIcv2bk75Zdggms9Fq5bvWzZ02WKqgumRRNT/wBKzDt+0jHq0cw668TSHq7ZChWWBPHW5g7O8tZ1zKzSASUeYCiL9sH/AMLbWbLJP9Q0o+IK6ZTrCNFs7u0NanlhiVm7KReQycech21UoNsjO5hHsWVEzB/YFXINqjPJRGjSAsi8+Dcpnfl26vc9vFQ8jFuUiWJm9IWLJXWLCsQcTCmfJFMyappnG4JSLt9T5SCZEkzRkmZRwgnVLtG6ZO4qORFGUPNuXBk3lBtr490OhX3aKUhVxYNc7rzHLqmPVC/8XjGyDLKgxdxdUrMe8T5jlpGNUFif9uudnf1tOvpsIxJ46lJMjFIjGYnmhHLi0sYyLZlEhSrWi1NK9FzbjnpLPWEaq/6jBWUZiUnGHUwT6giyNz3drtCtlnoWErzJ2EYi1OqpBXmLlIiTeynMh3EW5FrJt5vUmqRlbc2BCUaPmiK5EAx7dafFg069ZY1DrKZFkAk7ZVoRRqlJ2Jg1O4IB0SytorkGZqErPMWguQ5UAWusEhaYmuGfIdaftDuUjevgrjd7KzVfxlUjBaA7ctyC9tVbi3raOkZxg2frAHMQlbXWIBdFCYn2LJVQOcRJW9V5rZ2tfUftumVjzvukCTjB7NMEgjzXwcrQU7lUFCPTks0acrRIirkze1Vh3GLyyFhYqxyHoWdRU9DT7czmIlWr1EhuYJtlumbJAsnEhFw7N40as1nDka9aZV3DdtWFjGxUadoi5RWZ26qyDF2/aWNgs0aiAOFj3mlpsUXx7PGlaKrHRIuta6whGllVrCwJHiqZIHU1qHVoRvXXZ5Ros2lXpG6CxTAYAMUQEohygPqbtIvIenWiSZKAk7aRrlZA5H2oKhEzDqCt6QDOuX/3gLZDz+okkvNpnvahAZPztiCLq/iAgOoCwgPoEHtfeN5WHZg9jBB50/OO1G7smyLVreToN0iARJKRlNQmbB86C/qmMggooAMJPUF4xZORvywGWQTUEOuX/wB4C2MJ3UN3KTbI17VKVkdApDdcv/vAWyOm7qysVWSeW475q9kgbLIOomJeu2L11Gt1nbQRFuvP1itSKL9+9r0c5eEanEFqTHWbsFhJR1pRjRkG6a6qXV757xnGUN9YDTNkjpecPJFbIMlUVAD/AMg1Pg1Z5WgtAaOVW5bIidya90lJhQ51CAaP3S4umDk6NmVe2ubvD+LhJUWilFXZoq0xo8aWW4LLNFU01UIcEjnne62oF4cvYWZWRetozqx37Cwg0lLGpXlEAn7O1cgQYqcdReq4mZSj8XAxDhBe1qP5SVtPVWDxmi7jmoNUZBg9QjIZQEpVi/UqbBBZN7E2NpMOX8wZ9GpyFdYJN0KtGr16T0vB7FyIkGAdsgU9fpzp/HGhheSraVbvu1X6vRWKvzCUnqSzfLy/LLPRUbN7C2sAOJ2OUbvGhwg2bVEYqNkEWlLQXh3gOHVCcxwGhJF1KraRsE69LpHiGyxJBRanPW2l1LFpELNF0JNF1LkLCKO2V0frd4JJssrF8rrS/tXtK2i7J1luc7UUZfZcEFXNStCCCR1FVYt4Qic6SQa6WVduSL6RYhYkjgF4eakE9SxFvJyBH0RHJpupZiyq19j5JWAUdQxoNRo3bV6MlVY2mzDQXkdEtZSdIfI+IcxcEwlFWEs6alu5JA4EMU5CGKAgAgAgHqdSQDydXgf7od4j9Sj/AJQ2Vb7Zb+NK7JXeOqf63ZO/ckz8k4yE+5on5NDZDbx3H4zTYfeSicdJskih2PKG/EWi+UDcqscPRz0ZS977h8jGf9vslkmIyfgIOJiWrpzIt3i/O7T1J8OQWTdjv0DCyss6rEOLdg1UcKlbS2obls3ckrcIBFUyHAO09SfDkFkXar3KPJ1mhWYcp4x4DVce09SfDkFknab7Ev6+yXrUQKkm6O2bj2nqT4cgscy2oTRq5XPXIQSJJnUMEVP6gS0ZHSSFbhipO2ya5A7T1J8OQWMLdepCdnoVGrxAOIsGwrm7T1J8OQWKWK3xj6ETlq9GkbPn6TMVPVX+bf16pS0nHCkDtAEQSELLqYUOQLFEcmd49S/EURkVdtS5VN8ftyIT6u8Xa53j1L8RRGK3HUoks0j+3Ygembqq9J3j1L8QxGSlv1Kjo5897eiD9XQUU5iVm1LOkQ3eKIADFAeTvHqX4iiMjLtqVIuZlHtuIJ1F10HO7xal+IojIK03QbXXY2Vko5y0fmckOUPTk48Vj4WYeo83pWzJdZPI2a1LkY5g+7yw6fWW6S3MnK/c5901eu7QxSdoJnSI40sO/ZIztecCzFCHO2I2H1QfTmpPo09u/BXmIzj8EUg7rSQ/shnbr7wtJ5W5h6k6tAhXX6gnllDCHbr7wtJ5JTT40/WjjXJEok63yE7dfeFpPJqbfHh5Yg1mRIBma4CaHnH5ImLKFZkTgVqkAG7dfeFpPImZekn7WcK4/MJ1WoiTt194Wk8aSbp5aaMmrCPGpQmiG6TJIodjyhvxFovlJnn6NRrqZKtJLFIySKCneKS8IS2adPFntpuKq0cuzMDSNDovV6mvJFswrCLGScsjPrEwZqrGoLkob/2jDUFyUN/7RhqC5KG/9ow1BclDf+0YaguShv8A2jDUFyUN/wC0YaguShv/AGjDUFyUN/7RhqC5KG/9ow1BclDf+0YaguShv/aMNQXJQ3/tGGoLkob/ANow1BclDf8AtGXKHlKtDtpRld7AsqWVjUhT2zfo1R0+4XMbNSADydXvgrzIcQ7Hh/lEtlM3h1P/AFCnsuG8+lnHnGyZAOxZkfyaK5SNy6fwhrsrAgGpmqnwonZdv36V+pG3q9WdwJ3/ABa4OypfUTnGnux1vXEcPebLTu3PfIr42+zofDJsrH3ncuLbI3fui/Gf5+eWzdWy8Md5Wd26/wAOa7KDvJf/AI0f6sPpzUkA8nV4H+6HeI/Uo/5Q2Vb7Zb+NK7JXeOqf63ZO/ccz8k4yE+5oj5JDZDbx3H4zTYfeOicdJskih2PKG/EWi+UDcqr8PS2UrfC3/IxnrNWfqKH+ror1+rG5yPGojzLvPw9a1EoD+XfEatgjZcnS+VzTfxe0y+aoUCQo9tYtLO2WcuIp0kinGat6cpRsWkpa2pRI2TKcPK5pv4vaZUtT6Cymr+uvZmyabuZIs3N5XNN/F7TLTqdQ3c/p8u3srY6bOXXVcG8rmm/i9pkpqzpwrFSaRLU1Mc7ZYhAqOqmnrKq1pq5tLYiyMc1TVJ5XNN/F7TK9qXQ21/1CfLWVuRq7TiwbqeVzTfxe0yZv9OsclS2EPPoO3PeBsp0XqtXDgTT2wnEBEC9VHkGztvZMtneht7Jlsq9iboIy4DGyR+fKvDhnedt7Jlsc2JAbPFK9myYFBi7KJe87b2TLZZLG3WgJpII2UIJ2ipQMhZ2wIIh2VKjyJgGd523smWyuWFulI2wwx0kYFJPngHedt7Jlsr0unIX6kpkZPERIq9MI5bN1bNwt3les6CdfgyDCzRxIwbl53exD2FOZpm9K/nL64K3cIAK7EOZ6oPpzUkA8nV4H+6HeIuW/Qpf26f7oZ1lv/PSyrroA7t3KsQOWaVEM6y3/AJ6WSrhAbHVRBcnIHXeUest/56WTrhAYSYAFyCPUnGQjhAIaIAVyAPU0M6y3/npZDLoBYrgIrEABWacg9Zb/AM9LOmRPZKLzFSGHtwnoySKHY8ob8RaL5QnLYKXWSi4TAQYI8odaa/1KWUdVM9vuPMOU4CxjPT6vVn6ih/q6K9fqxucjxqI8ywESU1QoAHKAkGKmfR1Rr/SpZqQ1bhp5d1AbpAIQz3kGHateyYswtUjD1VHOqNf6VLKY2a9v6mgLcg8k+mAZ1Rr/AEqWXFs2CzaXgDcgAM4uAh1Rr/SpZMtWoQ8sINUgHqauUls2NTKpytkhEYlnyj1Rr/SpZWW7fylanlFsQSgSI5A6o1/pUsuaCSa9KOmgmQe8bX0+q1Y3Anf8zTbVPqJni73Y53qiPkXeyzbuTfya2Nvs7f4RNlY+8rhxUdjHfuifHf7LZutZeFvMqu69b4Y02U3ezUH4sd6sPpzUj06e3fgrvEarWhRSEYFiIiUM7q1n2AxytVyvrOrUCkM0OCcuommHdWs+wGOSVarxJ+spFhGYEU65zy91az7AY5NVeuJw0sckGyKYjNcxTQ9Yrh4mLOeCZCYzRExjd1az7AY5EVuvnsFsTPCsxImq1BMvdWs+wGONoOGj7RRl2cW2QVGaIUT5JFDseUN+ItF8pFUrLmoVtdeAYqrKMkjHP3NqXhuPzTyOYRdpuKDBmk2RFnGG5nq9WfqKH+ror1+rG5yPGojzJv0ao6fcLmNmpAB5Or3wV5kOIdjw/wAolspm8Op/6hT2XDefSzjzjZMgHYsyP5NFcpG5dP4Q12VgQDUzVT4UTsu379K/Ujb1erG4M7/i0znB+YZzg/MMqol6CZ/aD73e5zg/MMciHeqJ9IfYXec4PzDLOId3Zv0h9jWxsYOrt/SH1ZM5wfmGVgS9pW/0h96DnOD88YCA3uifGfZy8mWvday8LeZVRDuvW/SH3Y0znF/MMpu9l/8Aix3qw+nNSQDydXgf7od4j9Sj/lDZVvtlv40rsld46p/rdk79xzPyTjIT7miPkkNkNvHcfjNNh946Jx0mySKHY8ob8RaL5QNyqvw9HZSt8Lj8jGY2s82SxREXIw6CJJIHZkiWiwqV1tEuE25FxdyzNiISV2ZwthexsgQEmyMc0cEVUvFeSRaK9M5MdcFjFb2e1BE1+PlYxMHnX12aLUS36tJAcXD8xOjTXEVpS6MGVPd2do0cuWpCAKRRvMARd8hz3hztTkSVBbUeupHIuZ8RJkRs6UcYa8w3RkVKuKREnnQOiNr/AFdy1XckdrlIVFFYmXqejZ1pUDsRV5W11ikFyeu1Y3OR41EeZdIsstqLQWoyD1p/w2YN0o0QPGlpy/UpNrR7e5712NUUYl4fo4uikPFxx++NmLzmyI80aIHjS05VKYC83qETvTYU+gmiJ84aIHjS05aaWRCxadJBaLCfrMyuTnjRA8aWnJeiFJFyZ++NnNzWqw82oUhNxVK0v3tsiYqxjU/MGiB40tOQFNIrf9RWveewJ9AnF/2o0QPGlpyeqwREhSnYWGbe/wDMDcopeq1dTTW08sKZw5SH6qUQGg1IR+6AzuFUvZAZWaXWnKMsZaLAwpyrxIudwql7IDHFJrAWWLbhFgCR2Lk5i9wql7JDLFSKu3gJldKKAqqTRU5Bb0OpigiYYkBEUwEc7g1L2QGV6mVtzIWoisaBioSfRpB3CqXskMrNbhYS/wBKVj2QInOq9KYRABDky2bq2bhbvIDT2nuIGEWVhwFRVg3Oc3k4pXsUM0sio+FmL6zYN+hQBdgJSeqD6c1J/wCry78Fd4jHXAUkuSztADmByB2ZcfFDTK4wtJ3NnBGwt0xLKqAqPZtw8UNckmFqCerZT2JsKhut9Gfs24eKGuTEdbCxEqZWytTkBouJixEdbTRMYKdlakILVESl7NuHihrkUwtJp61FTsTYqpVWvSn7MuHihpjBnPoWujGkJtB0h2yQATySKHY8ob8RaL5TI24q1SvHbWhoigZkkKaXZV58XMs02QlG1nuJJKQSeL9UjRBWFp9piJKWkVLW0dKv+k56thrp7FBIMVpDonqCrZyi7d6dzEqhMupifaOZN4k1b4rowQ7SNEZJm4dtiuUuQ9ZS7DgodNyBE41ZgoU77TJ9INBjHNhIMU3M/NHpTNeGWqbqvg86Ax2ZECLydEeyEVItCzKYKvJUkguCGjREWajYJxIoCm8LyT9GCacyDjtHoesrEU5s9THLaFj12Si7h3FRrBq2JIM5xGMgns0RQruR1BjHAB67Vjc5HjUR5k36NUdPuFzGzUgA8nV74K8yHEOx4f5RLZTN4dT/ANQp7LhvPpZx5xsmQDsWZH8miuUjcun8Ia7KwIBqZqp8KJ2Xb9+lfqRt6vVrcCd/xa4OypfUTnGnux1vXEcPebLRu5PfIrY2+zofDJsrH3ncuLbIwOW+UT477By17rWXhbzKzu3X+HNcH6MoG8l/+NH+rD6c1JAPJ1eB/uh3iP1KP+UNlW+2W/jSuyV3jqn+t2Tv3HNfJOMhPuaI+SQ2Q28dx+M02H3jonHSbJIodjyhvxFovlA3Kq/D0tlJDluFw+RjfM1Lvs/ROxxiqa7nBdgt0mf7Ql99zMpg6/3vmmDyNSuUDW/UaFlEY5FBWaaisIFjop65fxzV07jFmC5ycqjbbqz9RQ/1dFev1Y3OR41EeZdnUuz1DoK0PEkkHPZsuHQBO6le7hnl8mr8rSLak7ozZs2NFOwXWi5/UcIyNBPT9qcpWyYEME7qV7uGeVOavic3fzN6O2VVUmSGcFCd1K93DPLTNXw9g08OvR2ySqcuuZuQJ3Ur3cM8lZ7UUYqSIegNSE6ssUxqjN39Oq1srehtVkSRjQElQndSvdwzyvzV5JftQVkaU2UdKJxXToBO6le7hnkzK295J0pGWqaEe2GwNh6f1Wr3P8nlh6Lm9J/uvNwQv/8AMgc5t/8A44HKyF26CW6ueGAO1XfPzm3/APjgccFu/eSL5TwvT9RdczObf/44HLEW89gzHTnhRR6or0mIBfugR5FILm8wOTObf/44HK8W69ftPQHhgP2j/bZzb/8AxwOVkLKF/pXaxo4Uule8zB//AFlr3Wsoh7LeZXy6h9gwnQKQAJdQb9HnN1J/m13NLAlgmb52sLUXfWGPOH1QfTmpPo08u/BXeI2tEEkg7EmPQUM72I+w5nK5ZUkXNnMMTKH6SWUUAO9iPsOZySsyR5+tqhDyxQT65yl72I+w5nJm0oqREqQIWXKJ2a5edEWlFKKjCDCy5hK1RLy97EfYczkVZkiT1pUGIlTAqq1EC97EfYczjGdTkbVRkCxr9AQmSG5+SRQ7HlDfiLRfKVa0G1SryAwswoKbJIon75IewJ3NOJMknZ7kuVo6bgDSOLzPNH0hlaplbqKCqELEpNukMJllfM1Z+oof6uivX6sbnI8aiPMm/Rqjp9wuY2akAHk6vfBXmQ4h2PD/ACiWymbw6n/qFPZcN59LOPONkyAdizI/k0Vykbl0/hDXZWBANTNVPhROy7fv0r9SNvV6s7gTv+LXB2VL6ic4092Ot7Ijh7zZaN3J75FbG32dD4ZNlY+87lxbZG790X4z/B/AMte6tm4W7ys7t1/hzXPwygbyX740f6sPpzUkA8nV4H+6HeI/VI/5Q2Vb7Zb+NK7JXeOqf63ZO/cc18k4yE+5oj5JDZC7x3L47PYfeSicdJskih2PKG/EWi+UDcqr8PS2UrfC3/IxmB9JfV6s/UUP9XRXr9WNzkeNRHmW+WjIPUigO5R+3ZodmzJel8otE8ZRGX+9Ul5RLe2a2uLWcLRLwiacTqHRE4uMIpcYopytUQHPKLRPGURlRvNLbTuoSi9oi003E4RVA3lFonjKIy13mmOLDpwqhaYw6baYXUXP5RaJ4yiMltQaIeIlCEuESY5mqoFCnX6kNanWUFrZEpLJxjUhy+UWieMojK7eKahqHqK6UtEYRu4TiugV8otE8ZRGWK3VWZf0ppF2KPer94Wx+i9Vq4YEtPLAcfoL1URwbdCfxO873Qn8TvKxZ4lBCXBQXXKeWeHDO90J/E7xxaIc1mi1gFzzCMXRBzvdCfxO8sdpiF4CaSIZ1zjtFSlxC2woIIgJnfKCYBne6E/id5XbNEoyFrMcXXIrJ88md7oT+J3ldm2EpfqSm1FflIo9MODlrHkqtm4W7yvXGCRgINM4vOcmwbkNnfWB/N9mmMg1k5u+uW/S9GK7EA9WH05qSAeTq8D/AHQ7xEB6FH0f90M5B/LKt9st/Glc5B/LJUP+ZKp/rc5B/LJ0B7DmvR/4JxkIA9jRHo/8GhnIP5ZDbx3L47POQfyw+8dE46TZJFDseUN+ItF8oG5VX4elnJlL3wuHyMZgfSXbE2C5TrdpNx7OMGIXdiRJlBajNn6ZgkWLpst0sn0avlHhSnWSWjpNN4Rw2Q6mbUiCK1KuDWSVEqbpVyglqJXlHbduTrQpKqtEDuturP1FD/V0V6/Vjc5HjUR5lmaM3mplARdNkV0+zJkeYNdr3sCPzUWBgkKDdVUoVgmoSGdmKeLr9fNFRgjAsBOLRERMNdr3sCPynwcGpPakkVh2JypzqZSANdr3sCPy3wcGnZNNCJwzEhFJtcpwGu172BH5L16vlh5QwQceBgarCUaXA19SnVVRWEYHUNFtDGEa7XvYEflag4M+o+paJ4hmKSacTzCDXa97Aj8tkRFMXNKWaxbRur3hahzzSMkeQmpUZd2Dhnb2sYg1mJNvDRMnKOPqmbZRYwVu7z8KwtJZMjpw9GNCYZEXttmjFZ8HxYVNKJSbEVUY3ywvVyxqLFoR6aZBh0zjUOwGh5V61YxpFYmIVfPCNdR5ZzKCROF5zFORbsVAudkm0FrDERINkTs68pIquBvMi3k4pmkRu4bndM2KpmV/skdVGLhZZm9fEZu3qoaiPe0dLXj7mczrKDBbmDsqP2ec4092Ot7Ijh7zZaN2p75FfG32dD4ZNlY+87lxbZG790X4z/By2brWXhbzKzu3XuHNc/DKsg+dSuoyLB8DNydWOAjihruHFOryjt0q4cCgIHWla7JSFhZvyzzhGMI1VQXYMynrzK/zDZw8dOIl+sg0Sn7/AGOtq8xXs54LRZmi/IhfLIAS6Ma2ZAVi2mZBQbEijN1A8gY7tucI07tHErE/rEJRGkam5dvZ6OB2s4bal2Bw5iTrxLZixVRaiupT5SVdUCQfysyQjkFZYAemsMrSBOu4Rdg5CCdOEBkbNOlfsI56q3BYjuOddKE5MzdP1HF06AWPcxgsg2RptcFJIRYH5RIGdzK37PNlcqsCu6tBVWZjAlLKJkzuZW/Z5skqnAJz1aSIyOBFeuc8O5lb9nmyYqFdRiJZQjEwGIzXMUYin11WJjFDsTic7VEwj3Mrfs82RNUgVZ+1omZHEiSrUCB3Mrfs82M69ERlpo67RqJFRmiEEckih2PKG/EWi+UqnVx3Uq64XYmOqqySOc3cWrezT5pzFsoi0XBuyRFNIWkcfm/ltToqzcAZN7O9Sgwe9bCOeadsncU1jRlnaQIDLCVaI0tYxMiR+m/IByrsVxRslJnWaj8a2R4orJN5MjhdjpXGs3zN71lIRKdiu4Lt1Z+oof6uivX6sbnI8aiPMm/Rqjp9wuY2akAHk6vfBXmQ4h2PD/KJbKZvDqf+oU9lw3n0s4842TIB2LMj+TRXKRuXT+ENdlYEA1M1U+FE7Lt+/Sv1I2xSswC0wnNnikTSReQQXNCQ4x4xho5IWYqdIKEjCxMsZMX7FJwKSaqZRf1+Fk0ZJF5GoLJv+j60WNqdaihTOwh0EDlX6wJ79p5Ey7M7ld22ZxTRi4BynBxWnliOysUQixfLEBEybqcq1csQoGlodF2KRTkKKtLqikiWSGEQ60RVJUqh9PKOf0nrbUf21DCTVBui004l26BAIikVkmmQdlR+zznGnux1vZEcPebLTu3PfIr42+zofDJsrH3ncuLbI3fui/Gf4OWzday8LeZWd269w5rn4ZQN5b/8aPwkPFIljk02CRCsTCZqGGiIpRGQROwSMk9UFRwSRptVln5n76AauHRgIBlQrVfQ6yKUO2KLhJwgsItWotBZi3ILfouhBJoGnt2jyRyBWEghHKCiDQ9JqJ3Me4GusumZJoptjR8NExaL1FjHItyO1zrrEfaZVE8PPMIqIaxisk0UancxdOrMS1I1aQ7VMgKkWHL3WoGMo9yeMolu3cErjhoRRH6lH/KGyrfbLfxpXZK7x1T/AFuyd+45r5JxkJ9yxHySGyG3juPxmmw+8lE48TZJFDseUN+ItF8oG5VX4ejspO99w+RjMYTlrZyT7mOWazJ3an0aikhqRPSqccEW1YIGO5YRzw7jUa1g8PEtGDU79l2iLlyN+t7lJ8+ZoxDVsR3Bs003d8siCzqJSUjzSjR67RUUZ6i2ORjVpdMsS0aJxUOv0cbeLjJvU4YhI5B8MuuxO5DU61NIePfu2McspKxLN4ySVulr7RiTOejQBg/fldottSbmdq05Y5iRw/TjFGikdbbIS1N4mW6iDRR2Zkmtqz9RQ/1dFeY+t8DHWWIrbtwZOQkUzHale2+CjrLE1pw5P2lIpnOilCTTGfjwfshP0XWF0OU9xgSW1KqKuThKqNOtkTG2QhbSlVRcH7VUaC7BPnkETFAwCJfpB/PNI+SgWKpDnVk3SrdMROX9oAEBEocohX5prYoONl2yahEnqILEJs1Y3OR41EeZcWDt/qLQEG0q4jlRjZgen7nWD3iy+ag1ycb0e3rK3uVcpkiHYmSi6vYDxccIahSxSi1RECdzrB7xZfKnXZxWc1CIS8yiJkpshDn7nWD3iy+WquzZLFp0Q94lFTqzC5Uz9zrB7xZfJerWEkVJCbUGWOQGiwiWo1udVqdZUSvsqiQ8Y1EqPc6we8WXyu1+aPqDqGiW7SaSqRIrnr9zrB7xZfJ+ClmEhSlnNtfyCY2BsXoNuo1K1LsMw2d1W8hDsiNATOh5Jte/e2lk9plrc1g5hd5qiVw2SZLnXQ0k0l1SVespxg/VrrURAesNUlk2yCS7gV1SEKU6+zVxMFNPbAUREAMLUoiNRjv62UzujHf1splZq7BVCVEXciAllXZAzujHf10pjirsQssWl1yR5DMnRhHujHf10pliqsenAy5weSRhI1UEAb1KPFBAReynKJAHO6Md/XSmV6sMFZC1FF3IgCcjzQHujHf10plfhWsXf6Sqk4eKCZV6UQ9HJls3VsvC3eVuhw7ivQKx3ksBlI9scQ8nsJ/XzOacxbeIsF+Zt1VzplWYCBtupNau1kZRhKlaQhlkVTi4U8k2vfvbSwdKNe/ewTKbpNqjM2R4/jl1GAtn6gHmIJnIx8UzaScseRdJF5FXewPpzUrl8nl24K8xFK+dElyPYTk5ocmdBff62EyupXQXVn6B3EgYJVQFs6C+/wBbCZIo3YJ2uAo8iBWHrnRD0F9/rITJhK8hESoqvIYUuqL88IlK9DFxgpPIUEuqo8wOgvv9ZCZFI3UZ20gk7iAVBVr0w9Bff6yExgnaC2ujjKOI47ftknIGSRQ7HlDfiLRfKYjfjVSvizfQhW4s0+iL0Go/tCAzTUkySzXIJhVoo46rHchjREeIDzWSJTA4F0U3k9iVohvGvleth2wMo8OtUKq8Zs2DitxyrNrzugQm6lCTzJVms0TIis+ZunJbAx06r8KgtORcS1jmRzmRw9t05Qrh3S1cVSr7pNFE61dZUxwzaSVdZRotzmFZFca/AGalanhWZkAai0BJGr1pBBm3Qr7FNJq560gVpVauwFUWVej2/SLJLGwK/AllBmSwjIJL/vPNWfqKH+rorzNQYF5MWtddmkYXjCt9eYKxKTmanqVcnEcuitMT6xyk0ts0UkyGsqKuE5QJSWOKNzYSBLVa56OZHWewkfCv2gRUVLqTsJYEmqxJadYzj8crLdBR9ShrLN6jZUk1hsqtNbQwyumhmca/JZUVnnbi2mcebtuCVdyoIT6XWu1G2mJFEdPqikqmYhyR5OeXZqxucjxqI8yb9GqOn3C5jZqQAeTq98FeZDiHY8P8olspm8Op/wCoU9lw3n0s4842TIB2LMj+TRXKRuXT+ENdlYEA1M1U+FE7Lt+/Sv1I29XqxuDO/wCLTbVPqJji73Y63qiOHu9ln3dm/k1sbfZ2/wAImysfeVw4qOxlv1Rfjv8AOX0fTlqAO6lo4W7yqbr1vhjTZTd7NQfix2yZtLOCloGNcM3Sh5NYUyKMrkD47VVGvSR4xy6Fsk/TudTUGQAlljx6gHK7wb1TQYBKGs0f1Iy4oA4dXGux4OFH8u0aoEUSTKsnqFTjrzKR5tqkEadAF1TTUOnE9sGlG3Z3RFWB2vqNV0nlfbNpFu8GTFYyZ0lknCSSyJyqJKEA5Dh9OakgHk6vA/3Q7xH6lH/KGyrfbLdxpXZK7x1T/W7J37jmfknGQn3NEfJIbIbeO4/GabD7x0XjpNkkUOx5Q34i0XygblVfh6Wyl733D5GM8w5ikKJjCAAHpEXyxdWNcRiXaoHgK7zx6BVm2cNlGiqBDtzpimZKgrL6Z6xzVE6U3YsmIrsSeZqz9RQ/1dFev1Y3OR41EeZeJGRjNQqC5j4NaUX7Nly9W74XL3UyuXy12p3Sraivps/aoqRToh14u43AkZHlDS2SOUrZMAN3wuXuplcqlrtaE1fToacv3B1pkh1k++Fy91MrlotVpXn9PlFNOn6B0JZc6KffC5e6mVyVuNwPFyJB0tkkyGbKgKlRt1uQq1cRS0zkXCRY1qUi3fC5e6mVyAtNpSvmoLhLTx+qusSM6Zt3wuXuplcl7FYZSUpTd/R3kWj3gbG6z6rVwThp7YBTABOHVeaAurl7Nic61cfZsVlYd2oUJbomEcIdqO+fnWrj7OiscOrX3li+WPjQW6k6EodauHs6KyxObYEDMdNHxgJdUVE4t3NwBBDkjYrk5gcmdauPs2KyuubT2hagSYRwm7S/tQ61cfZsVlfVnFb9SQkWrNNMFXvMEQDLXutZeFvMrsteCV6CIjDw50isG4EN2zffYcLmm68k4nr6rJN26Tnp2HOJhikMH7QAOMa5bo9mwgm0q0Qimy/7Lo2mUy4h2MQu8jyJRsedk2WsNDkZF1JuWa6BRcPyOURe6cTCqCIi/bLOyHbm6wOm04Rs8SVesXR1jRy4LKU6SVqUHFKSSKshGvEHhTx9OlG8yE2u4Zg4O4fuDt0QUBFIFeYCnMDnBmoLdd5RLgg3QUWWVinRE0kpcCpJlGHmeUCgA52wX2RNZAOnDNxYzrwkyQHMoqukPbBfZEzkg9WWm6+5JCzIpN+tdMbtgvsiZyWkjOIuTQShpkyirRUhCxckZvGRyCsNMlUTbokMHbBfZE1kY7XQm7K5Vg5kqTlZsZI3bBfZEzjNZeSstNKhEShQQlyLKnySIc0ZIAUnOE7ZQpQqMuEXV4Jg7h5lNw3ZppqE7zNPZszlAVO7sdregyeIoKNY9MhuT/8AG12LQGq/XBTBvzBBXKPpjRa3Ly0/C8x0q6XEUTZYNM2Ng1CgreE2dF3FAhytfM1Z+oof6uivX6sbnI8aiPMm/Rqjp9wuY2akAHk6vfBXmQ4h2PD/ACiWymbw6n/qFPZcN59LOPONkyAdizI/k0Vykbl0/hDXZWBANTNVPhROy7fv0r9SNvV6s7gT3+LXB2VH7POcae7HW9cRw95stG7k98itjb7Oh8Mmysfedy4tsjA5b5RfjvsHLXurZuFu8rO7de4c1z8M0/3kv/xo/YqcEkzqD9BSiYcqd7CySSjFSOTR5WXW0j3yRkWj+tNWr6TbJuTuhXGD1AmG1caOnQJyAu3zwGKzXUdd8KDhvX+WP5IkV1neo0oi+h5MYzmQy7GSWQI41AlGkonBHrRBmTukUgRqV9cWV3HprQQsUn8cs9bH2/8Avn/vt9HKHLs9H4bP/wCZy7OQB830eZaYsZusz0WUP23jFdAuf9GKVDu1PV9f9h5HSJzmI7OBGrgxlwRAqZxFXQhGasd4utm7deqMyL9FzvM1Z+oof6uivX6sbnI8aiPMsrpox1N0/WdO0kUwjJkOeFjrvt+PzUWegl6DdEkptiooeHeAUkPY68WKiijPsQMDVEDAFjrvt+PynTkGlPakmPNMSFUnUzEELHXfb8flvnIJWyaZnTmWJiJzS5jmCx132/H5MWKvmiJUAnmHOFqsBQpc/Ap06rJqTrEhyxbQDlCx132/H5WpyET1H1LVNMMQSUTieYcLHXfb8flsmIp86pKLOVaLqjYmg8z1WrihE9PrAc5gAA6qI4Nsrfthtneyt+2G2VezQCKEwCsqgUTyzxQod7K37YbY5s8ANoilu1kBIVg7IY/eyt+2W2WS0V5WvzSScugZQ7JcpSt7ZXAQQDtluAgmADne2t+2W2VyywCMjbTKSiBQVlOeQe9lb9sNsr83FSN/pBGT9Jc5FXpjBy+gMtm6tm4W7yvXCrowEGmrNtinTj25TF76VT261zTJ+ykpy+uWTkiyIuGAApi7dFwisgumU6SpBIcjGjwMaYBbJuiGK2BqQy7Bms9YvFEueuz6XoTLUKsHdKu02aqC6iy6pztqhAMmotEGXNRHqnKVKm0l+s4VRTByUUVk+iaU+BZOUHZG6qrsjjp+sxtZhIgzBRi0FIWbdZs3H/tE5pnNRN1G60dy2ReOBEJGPukbqNc4wINi0aQjR2XmSDulVGKpEA0hY0g9Gl6VFfM1Z+oof6uivX6sbnI8aiPMt0XGzGpGn7WSj27tv2XMm6LuBRvBsPmoNKprOiXBy2q0WiulEvDpKRVCo54mMUPUYkxjNUhEe4FG8Gw+VGl1Bed1DTWrEYcjecImiXuBRvBsPlspVPb2LTZJGrxZCOZhci5e4FG8Gw+S9CpCcRKHJUIkpytVhA9Oo1Lc1GsLr1SKVWUi2p1D9wKN4Nh8rtMqC2oeozVWsxot26cT0SXcCjeDYfLHVazDvaW6jq+wZuO8LYvS+q1Y3Bnf8Wucwv8ACXOYT+EuVUpBbzP7Ife7zOYT+EuOSk71RIcwPsDvOYT+EMsxCBXZvkIH2NbGxC9Xb/sh9WTOYT+EuVgpBkrf+wH3oOcwn8JcYFAL1ReQAD+2fYGWzday8Ld5VSEGr1vlIX7saZ0ZP4AymAAWvUAAAADpY7bqO8kGLOIM0fqt0zOTguK1rtCz2FVSPMNlwdQxFUEzXNZs0WUsE2Ci8BKPVQi7HNPZtZLtiRPJkmmCPUawNmOtXooHEgyZKLxqKxpiyWOOjpcZCcmW52cSoMUqQREhBH8g8++WmZ09nknKLrrrGwh1Vm2rsc+i4dm0kZVSQfgAncur5Nz8S/oiUSiUyb6ZBByDnV9i2CRfkjUzw7F8dos5HUk6s5KRrCDB0Rg9SauC0menpWw6gNZJIAbMZcEGnmWabGuV+TlwZKOiMkumVRYWllK2BGJYkFcBi05BRezPHrCvTTtgkUzpBmsoiEVqW+JGVONXYN15xzBoSC5vK6wdIV0Y9gTrUid2nyO7jZlrfpo2RjjtGkmjIHetPM+jztWfqKH+ror1+rG5yPGojzJv0ao6fcLmNmpAB5Or3wV5kOIdjw/yiWymbw6n/qFPZcN59LOPONkyAdizI/k0Vykbl0/hDXZWBANTNVPhROy7fv0r9SNvV6sbgT3+dptqn1Exxd7sdb1RHyDrZZ93Jv5NbG32dv8ACJsrH3lceKjsY790T47/AGWzdezcLeZVd163wxpspu9moPxY7Y+dFYsHzw5DGI2RUWOFatULaWKbmMfIKiKKSqiM7ZQhn8UxRYHdPXhVjopoXOumasDvn6cYu5Lyg0Neq1CJWiQFgLdNJ09O9O6nGLMYlVRwkDZ6moqDifktMpBzHSbtZm/VO/bRgKMLBAybty0ZSzVy4Q+sS28u0aKnMylif2ZVF911A7FmhFzrWhsm8BYZtZ2u2AQaryqqd/Ti3FYkyJvYWURegKemMsxcuWUc9iU4hw+O6Fe26aTFofuEVpOOPHKrkWSdV+uSUHY7W9663VjZZdJ0RIBzl2TTuPYQ0k5k+UWCaB+shp2jG0WqKTMoo7TCUdARuIXOr2YjiFbPnPTPkVECihplY2qcG/I8g3MuxiiRKpH1HsPYkWybycY9On03XWkZpjJwQ0NxHS6BlYVy9OuT1WrP1FD/AFdFev1Y3OR41EeZdGkm71EoCUZLAwcdmy49P2Jf/eIXL/C3NCjW47m9kcoEiHYqoxMDejRkccmoRCF6siIF7Ev/ALxC5U4a5nm9QyoXgqJ05shVz9iX/wB4hctMJciWHToi13IqdSYXKgfsS/8AvELkvA3oIuTMpqCQ5QarCctQg7qeqVpRC/ERSGMa8xLsS/8AvELlehrgbUDUJJO6kSXTTi+mX7Ev/vELk9E2llJUpWUtgSLfvA2DoPVauk5+nlhJzzE53VQ5RqZ/FM5ndRTxROZWa2ddGWHvHME5kq8T5O6iniibxxWlAssWj3kmf2mLo/P7qKeKJvLFWFEYGYV7yzCnRtFTcxvVVOgRHvPN+lMB5O6iniibyu1s60haihYZdPopPmcvdRTxRN5W4Y0Zf6Up2xIO+cq9Dmj/AI5bN1bNwx3lfqjhWBhFAuNgTA7BuYCd0XPjayZpexPHzN8bnkHbwQXYj02SjRR/FSjNMwFUXaLJFGtVq2xPUXDnsgV4+NbRjYlvgJiXBoLNnEyDdMDlXjwodvbPXMOgLRVB3XBZO3rrSqXO2m0UpBryOWsyiga31CXszKET6Voku3ZP0nBZugTDqXLIsVmRATGFMRKq1GdinsAm/WYAzg2a7Vkps1AcLtKNbnLddRFdKKdHTVRgljpJGGz2HlEoCOdgK+KLDkExfvXFgTXtVgEGsgdBLOwVfE9hx/HvUJmBbEtVgBJz1jpA7BV8T2LJOHcto2QXStNhBRJuqcgx0O5cR7BdW02ETqIJnMPYKview5GsXzmZsbVW1WAUmh24JB2Cr4osOMGzyKstPOlYppUq8qCCqWSXOJGSKgDzRI2UEMp1aGaqsBJPLNYjOHTNNVYe4zXxJY8o7ZWMslpjgk37puRrHqkD1erP1FD/AFdFev1Y3OR41EeZN+jVHT7hcxs1IAPJ1e+CvMhxDseH+US2UzeHU/8AUKey4bz6WcecbJkA7FmR/JorlI3Lp/CGuysCAamaqfCidl2/fpX6kber1a3Anf8AFrg7Kl9ROcae7HW9cRw95stG7k98itjb7Oh8Mmysfedy4tsjd+6L8Z/stm61l4W7ysbt1/hzXPTlA3kv3xo/ZF3qyHkQYKxDRwdaVlUiKDqc4fpAQGIN+ediqiuXUmVdwqj1WD6kg6jnrlmufU5dn1p4/ggSiUn8myBxXLLKyMm6jpKGSZqpsGj4hq/c5Fzf3bZ/KnJEvTrJxBLLfZGsWWTbrNUV49GLaKIJutS37aN60euiQSOl0VlqpPyczJWojkjYjVs4alZGzUjcC58Id4h9Qj8Muyr/AGy28YU2Sm8VW/1myb+5pf5NfIb7oivlEdkNvHcPitNh94qPxwmySKHY8ob8RaL5pxuJU+HIbKzvtb+HxeOJWLaO2jJzJt0XTnl6ugcxCFMcxwApQ5REsmwMkyWB8gKLsQK2V2MZKPlG4uY98g6SBQyYnxM5FA5SmAQ5R9OFdN1lRRI4SOoVMFBJmrP1FD/V0V6/Vjc5HjUR5l2lRhtRKA6LGPXw9mS5eh8oLnwFacvt3UeUi3NhpdjQBaKdk6WKvypI2NJ3Es5+Y2TADeUFXwLaMql2OhNagHCm2JXrM2RTmeUFz4CtOWm7HXn9PFRptiS6vLrq8zygufAVpyUvyqkVJECjWcnOarBzqjelW1VrSPcmyrAlGtSc/wAoLnwFacr90OjftQnQU6wnFwSK/sfKC58BWnJq1qTEnSmpqvOMf+YGx+n9Vq8Ywad2ExCc84dV5pBnLb4HHO3Lb4HHK1MWZJGWBGoCsBpV4Yw9uW3wQOLzFoGyRhxp4gqDFyBU+3Lb4IHLDM2lSBmCK04UkzNFQOohOWwEUQClCIcwOQe3Lb4HHK/L2Yj+0mSqIqmPJ85QO27b4IHKxITbvUClA/r4sSFVeiU+Wvday8LeZATtvJBQhEqMZVMrBuBFO8F08AGzS10/dzF7WfxosXAuGIChiVSgEXjl2RhyqrndGODegVRt0YFYqHKkmimngVGt9RbsBjgFqigugkm6qUMsxVapNiJ/7w8cpmqNRGtPXTp3IpKOHTds0TIWh1dJ8g+JHKdM3cCu1yVqsFNOzvH7HpFjtgbiZSkV5RoCAouvQooc6sbCRkQu6WYNeg6ymgRUuak7gXThDvEHds6FL/gzEQ5gcmdctfsVhlbdWUHdo6OIZiPapxUDrdq9isMknVm7frfOiGYHDrfMDrlq9isMmHdp7JlOfDMgL1VYDDEu7T2XG82GZCUGyXNHrdq9isciXNmCftXMiGYn6Vr0het2v2KwxqvOqWeklfRrZFLtkggfJIodjyhvxFovlDe3IlMrJWsFHKIAwSBNTr978ORWUZWVVttwNJs0G6/UowAJqGZgLoxG6IFlyqR6wJLnQkY6USbKAY/MWQyIfEf1/SiDadL2rDrtlH7dCyWwrCSRbSjtyIIx5nL6luJCSgp1N1KncoC6UI0WjHUrCVto1I/kGTltXI9aDbU9GTXPPP5GQeGUUkHSCbaLkZ2Mh4ePJIuGbJNGUFVZKZsQWmJbvJdy4O4OzIqhAKShISHZx8g+S/3GFbrquHso0dkj5Kelm0Ug9kyEdvn7yV0+0ZfvnB13LidhVFlvXasbnI8aiPMm/Rqjp9wuY2akAHk6vfBXmQ4h2PD/ACiWymbw6n/qFPZcN59LOPONkyAdizI/k0Vykbl0/hDXZWBANTNVPhROy7fv0r9SNvV6tbgTv+LXB2VH6ic4092Ot7Ijh7zZaN2575FbG32dD4ZNlY+87lxbZG790X4z/B/DLZutZeFu8rO7df4c12UDeS//ABo/zXM5eUS2FNi5lHbrmOTc8TTrp/APlXkis3aS7ojRfTOSlnQSaT5w7ccxJqYHHmakbgXPhDvEPqEfhl2Vf7ZbeMKbJTeKrf6zZN/c0v8AJr5D/dEV8ojsht47h8VpsPvFR+OJ7JIodjyhvxFovmnG4dT4chsrO+1v4fF+Y6dNGTdZy6cJt0Ew5x1e+tM8WROd9aZ4sicndfKXW7SSEdqdM0UbJKlkomWiJtmR7GSLd62P+6psma9GTgtjvCLlUQKcE1NRGLSMi9OmTNuVBq3tMQmil67Vjc5HjUR5k+JE9UdPhOcCh2XM+kFUP56WakrIeTy7AC5BMMM99EOq2NExQi4SD/dUcBVD+ellLXbhPamiKxQAZ9LmgCqH89LLksgFl0uEFyDyTi/OwFUP56WTC7cYaX5Fk/sauUhwl3MqZenIA9lNMBVD+ellXWQDUrVARWKACnEcggqh/PSy5KpHXpfMUIYe8TX9n1WrhiE09nznOAFDqojg2eteII7O9Fa8QR2VWw19FCZBWbYkE8u8OUO9Fa8QR2OLHXxtESqE4xFMrB2Ux+9Fa8QR2WSx15Wvzaac6wOc7JcpSN7PWwQQAZ+OAQTDlDvRWvEEdlcsUAlI20VJtkQFJTnpj3orXiCOyBmIuQv1IIyk2rg5FX5hKP5Za91rLwt5letdXRr8EkpYo0hyR7cpi97qp4ljM01fMpCdvjhk7RcICuxAFfV6kiAUC58Id4haK50KIduM/QQM701z24zyt2KBSd2kVJZqUDyqhyD3orvttnklZIE0/WjhMNBITrfPHvRXfbjPJizV40RKlLMtDGM0WAoRNmrxYqNKaaaAINUgEO9Fd9ts8iLFAksFsOaXagQ6zUSD3orntxniE1EP7NSEWkm3WUCaIbmZJFDseUN+ItF8oNvqrSlVhu4sLFJZJgkU6ffineJ43KTKx0rbrg4j3yLlLqMYTn7bBBsLJCSEPIFUFq9SFJUP9mbS/wDkyWf7M2l/8mSyd/6Lwu7UmWHd9RrpW6QqK0XTKqafIKhCtVenVLzV3O3Vn6ih/q6K9fqxucjxqI8yarVdnzN+1oVq8M354Ij5OaH4RjcNprQBASmqUbzPoHA03oYBujGZ5OaH4RjcDTegFARLUI0DCPKOeTmh+EY3B02oA8wRqEaJg9ID5OaH4RjcHTehCG6MZgacaflD0VGNAA9BQ8nND8IxueTOgAJzFqEaBh/eN5OaH4RjcaUWmsHTd4yrDFBwgbnpK+qVRSWTOmqmU5DfSUY2JEPRENAwY2JEPRENAwY2JEPRENAwY2JEPRENAwYqIEPREtQwY2JEPRENAwY2JEPRENAwY2JEPRENAwY2JEPRENAwY2IEPREMwwY2JEPRENAxJgwROB0WKCZw+g2CQDgJRABKIcggMbEiHoiGgYMbEiHoiGgY3atWwH6BskiBvSJfV6kbgXPhDvEEEOgR/sSfVlzq6H8kmVdBHrls5UiDyTCnJnV0P5JMlEEe8VX5Eif+M5Q6uh/JJk2gj2NLiCJAHqa2Q6CPZEWIokEeqI51dD+STIZFEbHbwFInICzTkDq6H8kmGSSLYqPzUylHtsmySKHY8ob8RaL5py3QGiVQRQIIjHI8o9Vbf06eVYhE7rbwIUoB1CM9Hq7XV0rUzYNjSC7NRm/QfIL917R7ypXO69o95Urnde0e8qVzuvaPeVK53XtHvKlc7r2j3lSud17R7ypXO69o95Urnde0e8qVzuvaPeVK53XtHvKlc7r2j3lSud17R7ypXO69o95Urj+iScwkg3k71Ju2qbpu4FD/AM51I3AufCHeIfUI/DLsq/2y28YU2Sm8VX/1myb+5pf5NfIb7oivlEdkNvJcPitNhhALJRuOp7JIodjyhvxFovmnG4dT4chsrO+1v4fF/wDpWZiG07Dy0S6E4IPWqiCohpEwKAAFusWeSNj4usWN9GIhsZwZC0WAhl1BUVzyRsfF1iw+jcUoqgse1WEVEuf0Z/JGx8XWLFNHo1dJRJW2WEyZyiU5U9H41BNNNO2WIpCABSl8kbHxdYsT0aiEVnK6dpsJVVxAVTjpIx8XWLI7S2NYSkZJGn5l2dkv06SWLolWQWRPy8xRMxDYz0oax7ZBo0uVkRbolAiSXkz/APnmzZWae2rTmScklZB+4eFRKor/AOleQc5B2ekc5Rz07fTnLgBgecP/ANaf/8QAShAAAgEDAQUDCgIHBQYFBQAAAQIDABESBBATFCGDIjGCBRUgMDJBUYTS0yOBM0JSU2Fx0SRAcnOSNFRikbLjJTVQYIBDdKGio//aAAgBAQATPwD/AOAzJmEa3IlfeL+6nQnT6WCE89Sn7QmBG6GwaeUg73kxJ/6KXQTcS8UPfLgRcR/BjT6Z95KdKvaW7W3RQ94NT6SWGHUPGLssbuLEgegUOLrCQH7XdcZd1FSoL6dijWy7xcEXqOF5SiRxM/LCjo5t3vVkEO6Rse1JkRZRWu0MuUcUhssu65F1rT6OWVYIpFDiRyBYJS9zKwyBH8wf/a2Yj3snuBY8gL95oyhItbDPjnpkJICiEC8RNGVOX/5pdTEFEmjbnGVJrybr10EvFZcjK5KMY/4LQ1CyhE1o/CsxN2rNfwgNO8Z/xc/QZwHlOr/s0kaDvIs4Jp5AGd7XZzf3s1RamNHEUsLw5gubcsqimRZX0r6wyHcuclWQpWu8prrNRJOJs/xGLkLcHkAcRWS/iNHpDER/qNXBxkjiVSLjkf7/ACzGGMFkd8iwVv2Kj1xlDSO4QIc0QC5IArehXeJPfbvArO+fGRGXutyta1ajWmAsdUpIACo/wrVyqOGlHd2+4q45g1BOhylcgY3vyIBual1CJvI39hhke41NOsZdG7iLnuqadU3g+IueYrfL8QEQDvJe9x/cJvKDo53EpjJIWI1JOiyHLusCb8z3VPMsbML2vY0Z1ACi1h/G6ktW8H4y4by8fx7IJ5UNQhEUcnc7m/IGlnUxxn4O17CoJRIFPwOPcds2qaBwIQSQgCPfkKGsMllkF/xM0QLSToUiy7szflejqU3ZeP2lBvzI99Gdd0XU2KBr2JpZ0wC2JeW9+aJ3Gh7/AFRAOMkaEg2PI1wGnrgNPQ0GnOQVQ1zR0Gno+RNFddyof9n31H5O0yqir3AACwFHQacAmNSbUNBp+WQBrgNPQ0Gnu28jD864DT02jhiBVopH70HxWpIwzwlu/AnmL1Pp0lf8NTbmw91aTyVpEBNuQNlF7V5v09NAkJXfby4sn+D/ANB0xdGji3MgLl4iCop9VPrHdNLOJCIxMzm+IqTRyxb6ffB8Iw4BNOhUOY9OQ9ie+x5GtHoJtSrmFHDDJARcGtTojrJvJml08Zij1UkCHnJ/01L5O4ZtWNO/4rwwoo+oitP5E3+o8pxyQ3CvNMpWIIxxKkDGn8knynpvKGCH+yyJjlFIGNjWi8kr5SRMIiJdDzV90cjcCpYN68EskiPHHOYgQmK/3DjdVp1txDlDug4WxrS+SU1Y10MigIqTlTgU+BIxqHyUNdqPK2MJBDzkFEsxsRR0znd6qyERzH9Q/wCKp9HLDFA66F4cCzjmTUGhSbVsgkk7bwuPxcGYNiaj8mpo3aWCXPfwwYAy7n33XtCn8nHydNrWxIYOnLLDkMtqKWZmaJgAAO8k1LpG1J0oXDOcwLzcxfs1J5N4Mato9Qct3Eig2A/au1aHRnUcLPvQXcwxAkCVezlWn0Q1raKWac4M8FnFgBjkAcam0AWYwGJkaZNNALrG7GiLH/l6rp1+Wzpps6Q2eA10xs6A2dCXZ4Tt/Ob+/wCp1DQKg0uFxyR7k7yvOcv2aTyjKWKwqXIH4NHyjJexF/3Fec5fs0/lKUB3MSTXX8Hus9ec5fs0vlKSyvHC8xL/AIHwSvOcv2aHlGW9lF/3FP5RlBCSKCL/AIFec5fs03lGXFuJUuuH4Nec5fs1p9dJK6GQMQcTEgPs+rlTNAZJVS5Fx8a81t96vNjferzaxy3TWy/S15rb71ebm5boqLW33vzrzY33q82sMsB/nV5sb39avNjferzc5z7Aa/6WvNjfeqHRtC6mGEyAhjI+xuYyjQsL15sc45qDa+/rS6OfTSbp/ajLRakXU1poWhGOoQym4d3JPrOnV4fh/mVeH7lIYuwd2vYN376vD9yiYrvkg7u3blV4fuUxhsvYPM4vSmGzdkcx26vD9ylMV0xgA59u3Orw/cqbd4k7iTl2GJvs8JpDBi4+IvIDarwfcqfHLvm59gkes05CSbqYkMASDXFx/bri4/t1xcf264uP7dcXH9uuLj+3XFx/bri4/t1xcf264uP7dcXH9uuLj+3XFx/bri4/t1PqEeJl1GqSNgQEHoeKHZ02rwjZ8lDs+Rm2eE1012dA7Om/q/mE29TZ449nhNfls6S7Pln2dJq6S7Oh6zp1+Wzpps6Q2eA10xs6A2dCXZ4Tt/Ob1nU9f87H6EgNs2MNhWMn0UFe7O0ZAArGTkVUX/VrGT6KKv24+FhSsZPooB/w1OjlQH/Uaxk+isZO9l/w0VfsssQBFYyfRVmtLuYSGrGT6KQNfBY5LnmPVgXP+0R1wMlcDLSaOU2DP3G3cfiK4GSjo5cjkycwO8jl31wMlNo5VUZKe8nuFDQyfCuBkpdHIxX8NRZwO4/wNcDJWo07RD/ZX7i/ednTNJ5OmZTigFwQvMV5sn+mtRC0Li0HvVwD6zp1mPhWYosP3aVmKyH7oVmKyH7BrIfsCsxWQ/3cVmKBB/8AoS7PCaLisxQP8ZfWdT1/zsfoOL++GsBQQfuzWA/ZFYCiB/uUNYCgB/uM1YCsB+yaKD90tYCrDl+A1YClUD9R/V/MJt6mzxps/Kvy2dJdnyz7Ok1dJdny/rOnW4X4VuVowqcV3amw5chW5WhCtmxQEX5e6tytCBQQVQ2IowKSSyjnW5WjCpCBoATatytRxqptuJOVxs8JpoFLMWHeTXDpUSBFuTN6zqev+dj9DxQ7Om1eEbPkodnyM2zwmumuzoHZ039X8wm3qbPGmzw1+WzpLs+WfZ0mrpLs+X9Z06/LZ002dIbPAa6Y2dAbOhLs8J2/nNUcxefTx6fmHnFsbPTNYKNQ+Bb+YpVaSR5dVO8CRBEBJJK8qTSTtOqac4SM8QXJAh5EkUkbyoRqXADndBjjY3HxNGCVYJX0oJmELlbOUxPIEmjDLE0gLAAgFb4n40mine0smJEQKrzkswOI5gczUkM66iOTTSpCwww5WMgDVqoJoZEAgfUclK3uyrcX5EU+lmQzJqGwRoQVvJmxsMamieF45VNyhVwDezev+dj9DRy7mXsmHllXnI1N5QLo+MZNnFL5QIA7I5CvORpNeVeT+ywm8hrzkafXlnjx0cpvGbcjXnI03lAkHsnkai15VFyjBsBXnI0uvIlkzhJ/EavORrWawzRdpJOeHq/56hK3sv1VvZfqreOLIj2A9qt7L9Vb2TmysgB9qt7L9Vb2Q2KqbH2q3sv1VvZfqreOMV3am1b2X6qzZrjhXPvJ2dI1vZRdmQEn2q30v1UGLWLQXPMkn1nTrgP4f5lcB/3KOiyzfdr2h2+QrgB9yhorBOwL3GfPIVwA+5Q0NiwwNxfPlR0NyBiLC+fOuAH3KOjuHO5FrDPliK4D/uUml3RDbiTnfI7PCabQZlFtyBbeCvNv/cqOHcDC81hjc1J5PO+HI7lQ2+sI4ieSgAGkjuE1MBDo+F+YuOaXo+T1OkXTaaQyCIwuxJzLG7ZAitZo21Gmjh1D5iOFGlyXdH2LmhEAGGiZXtitguWNLprSo+rSSMGV8vxBEJTYACsMsTGBZ8b8+Y7qeF9xL2FRoZFRwShI+NRaQRIvFzwTnBQ3IAwWArd5Y46SXS2//plUMKmQyaOZJRMFdgG9nmhIuKlhSB8FAiF0RnCexyGXr/nY/Q8UOzptXhGz5KHZ8jNs8Jrprs6B2dN/V/MJt6mzxx7PCa/LZ0l2fLPs6TV0l2dD1nTr8tnTTZ0hs8BrpjZ0Bs6Euzwnb+c3oQZ/g4Y9+CPVp/tV+P8Aap0LzICfYjcDMVKys8Z+BKEj0Op6/wCdj9CScacYXhuciDXnaP6KXyojlF3XNwmFedkFxiLG2Fedo/oo+U1XdScJEMAcO1XnaP6KHlNW3z8HKChOHZrztH9FDyshsMTc2wo+VUUuu7FjbCvO0f0UfKSqIsYTjZsO1evO0f0VH5QXUHPCSwxCj1bd1+ISsdRVtRUgnvvM+1bE93wq2ooCfDDJMr++/wAKtqKQT5Y4m+ORteiNRerainE9t5u19jE91W1FaUSBsuGfvz2dJqddRljgLXsbXrHU1pgwjtuOVs/WdOhon+FcE9JpHYr+Gos/wNcC9HSOGbJAOQ/6q4J6fRuAMkPMn3Cl0bkHFRzB94rgnpdI5ZcYQO2K4J61GnaNf0EnK52eE1FondGxHeCO8VwElamIxPyM3p+1LIWNyXc8z6PU9f8AOx+h4odnTavCNnyUOz5GbZ4TXTXZ0Ds6b+r+YTb1Nnjj2eE1+WzpLs+WfZ0jXSXZ0PWdOvy2dNNnSGzwGumNny42dCXZ4Tt/Ob1nU9f87H6E8gjW7bmuMipNUjM7GIgACjq4sgcR2a4yKn1SASLwkSXSuMipdUhCK2klQFzXGRUNVGSTieVPqkDKyxAEEVxkVHUoFk3cJDYVxkVQTo72VJLmwPq/mErgp/orgp/opdJM3JnuO5ORrgp/orhJr3Zktywua4Kf6KOjnUXZT3kpYVwWo+iuCn+ihpJm5btRzATka4Kf6KkgliFuGf3uoB2dM0uh1LC6oByISxrgNV9upI3iblB+y4B9Z06/LZ002dIbPAa8A2fLjZ0JdnhO385vQfMattKJTEZ99lgHsM8MaXTuYJh5OmdHERF2Z8Fo6a87Pq1dorAEiz7oiotMWm0sejlMMpmW/LF1IsLk0IvwIptWqvFFI3uchx3AgE+h1PX/ADsfoSIJEveH3GuGSk06Aqd2eYNHTJz7IrhkowIQo4OE2WuGShAgDDgpjY1wyUNOmQOJptOhJO6HMmuGSjBGVXKE3xFcMlRQLG9sJOVwKWYiA6WQxIVMN8SWEhbIih792L4j+LVropoAJJLCfSqZVBMcLEWIomdRJNrPZCgBzZSQLAEsangngURnSNqszC/bB7NTO9pnjlljxhx/yKWGcsTKEvJvrboWL+yeZFTuysRIXRViw9kjAnI0Ip2ZZJ4lJMk1hEHBb2KMOomlaOOZgoIiFkTskZsQK+G8mjO3qbPHHs8Jr8tnSXZ8s+zpNXSXYYxKY/wBc4k2JqZrvIQx5k1GxTemT9YOpBQrYVqtfqJoQu5jIUq7kHma0+l1GAOpZe+RjhCQrghSSTWqeaYuNFrXhwQ5cswP5LWn1MsBV2hzFzERlatSdR5QKmGGMtZMveXp0lnUSTSGNld4r7n4pmtmog2hSGeRAxBJ5JjR8ot5Q0HlKTThHMt5TnEw/goBBrRGREeHVLN+C9ySbGP+RFEu5hbUaZy/acmuIm+H+KuIm+qt9KLLu1NuTVxE31Vv5eeKAjnlyriJvqrfzGxVDb9at/MLllH/ABVxE31VvpRbKAE88udcRN9VGWR+W4l9zsRs8JoaiYXJHwDWFcTP9dF2fmxm97kn0ESNXU7zfbkTgZCHPnjUNlcHynvMsT7sN5yrTaOHSQA6JZkQBYh79+STUMunS3HTmcRyLMOSIZDZ0JYUdHA7tNpERPw5nUukb7sEqPQ6nr/nY/Q8UOzptXhGz5KHZ8jNs8Jrprs6B2dN6I5gqCAfgSASAbXAojs5Z769v8XOnF+zMAGH8janW+83PsX/AIrbl8KFyxm3ZjzJPMvixFzR0KTuiFjNK0D3BVjURyIaNcFdx+8AHeRcU4PsP3q1u9G+Bo35PCAquBewcBQL1Y4NvTm4IvYgkXsaXuVVnjAA29TZ449nhNfls6S7Pln2dJq6S7OhQX9EWBBKfDkxGwjlK9gt3+JstSJcnd+yT/Ee494oL+kj1EhllU/wdiSat2d3bHC3wtyrllpnhvFjj7SVugN2kJvGAPgh7qRbK8kntMR8W99QxAsqSd4ApY++VFwD/wAwDYVGliIEQ4pX5bOmmzpDZ4DXTGzoDZ0JdnhO385anSVpom3LyxtnnbAMlsAtatHcQeUNRnv4gA4vuQBSaaSaCYaOVYhu03yFAcu2SxwNahHmdZfKqadyXkSQKRFvjUOin1AnTTwwzCRIRKAgG/Cys8tlNSwaid31PlVBiibprmzHkoBLVqdHKgCR6JdYGOnE5IfnjYvWnilG4kn1UWktIS/4g/Gy5Y0mnaJ9ZFDoDqVBi3zmJv4MTUsEkUcfHalICCu+LTIBKCHGINQ6WXdzzpBvThMkkqpJkD+DKoIWup6GBwYL7su4E25ClQsAqhjdz3LfE2pxic9PK0Lcv8S0UOLR3Pc3dfkTQQlBGptzbuBoHmKWxCMkLzHPn3WSgeYqS2QDfHHb87H6EARnteH3SqRXD6P7VSQ6QLIFibsEiMGxoQ6Ow7I5foq4fR/apItMTMeEiOb5R1w+j+1TQ6YGI8HKc0tHXD6P7VGHR2PZPL9FSQ6QhA0S8hlETYVw+j+1SxaYvLlCbZgx1w+j+1Woi06LfB+d4kBv6BdxnJkSW7ANbyb6KDzEyIIyWT2akJEkqf5NMoQufebLyF/4bVNjz1CVx8/1Vx8/1UutmFwHtc2bma4+f6qOtmLAhk7jlcCuPn+qm10zKbA94LWIoa6f6q4+f6qXWTKSN2puxDczXHz/AFVNqZJh/sz9wcnZ0jSeUtQqgtGp5APYCvOmp+up5mmftQX9pyT6BZhvFYWA7ANbyb6K3stTO0Idw5u8f6zg08SxGQ/HFOQ9Dp0Yp/qrdT/1p4pSDJgtylj3Vup/60IpsR2Bln+Xdat1P/WkjlDFcDe3PvtTxS3AxFr8++t1P/WmilxJ3IthW6n/AK1p45Q+W4ktzckW2eE1LDOXC25ZkNW41H1VpVZUwvNbk5JoRqSNQwK74cvbse+pYktq55CxbNVFgO1T6ZCkWftYC3LL9aliS050jIVRwRYgrGE5/q1LAmCPNzcItuZf3in8lONM0UPJLjH2B7jWkjQDNlwL3Ue3jyNGFSogJBMVrWxuO7upYFAjn/ej4NUWnRLyQtvIzyH6jdpfgaEC70m2F8rXvbleup6ABsNXpdWJFSnQh4NFp9FLFCjj+Ju1PpZlSx1MsoOZXH2aCH8XcvqBNED7842IphYwl0jTSxH3DBFAsamjljP6E5jUNKMWJlsUqeKcATtpJgd8zjEkv7FebtSupmdlbIaiZ3KFMjkjU4sb7fnY/Q8UOzptXhGz5KHZ8jNs8Jrprs6B2dN/V/MJt6mzxps8Nfls6S7PlX2dJq6S7Pl9kSgpHjYXkN+QuQKQIyE5FN4UVsxFce0RQnX8EZYXfnyF6367syqMilTToFkLxiUW539k3p5ECHiFDpgb8waMg3O7bufLutUM6YJHp75yOSaU3DKwuCDs6dfls6abOkNngNdMbOgNnQl2eE7fzm9AmwFE9iV4yAf9b0wBUoRbG3wtR7o2K7xfR6nr/nY/QilSNrEw3N5SBXG6Wn1emdIkMXNyA1yBQ1umGQxHP2q43S0ur04MD8LEMCS1cbpabV6cnUPwkowBDWBrjdLR1umIUYnn7VDWaYCQKnJwC1cbpaGr04aDGEgXJauN0tTamCVLqklltExPP1bGwvxCVxUv2q4qX7dPqJFs4fmBZDy+BriZft0NRJiVDJck4d9cTL9ul1EhYDE3sCguaOpk+H+XXFS/aptRIAG3a8kxjNxXEy/bqCV3JPDP3h0TZ0mp9ZMGKbsWJG65GuOl+1UEjSIBuOXNlB2xhjqn0quWEGJGINjjnSRvnOGljfKUH2eUfsilll00kOOmSA4PEDzuvMFSCKDy6OZSmkSBmjeK+Nyl2XEgispdNMs2k0407GN4vYPK4YVKl4ZmglMgjksASLG2VR5GFGnhihjVCwuR+HdzYXJpPZytzt/DYgLM7lDYADmTXmvV/RXmvV/RXmzUnJGVQD7Fea9X9FebNT2d4gA/UrzXq/orzXqhdmUgD2K816rkVUA/qV5r1f0V5s1PaEcQQ/qV5r1f0VLoNRCiIsMouWdQBzbYBck4mvNeqOLKOYuErzVrPt1qdNLp82jMuVhKoJtl6EpG7xtzyy5W/nQkEyaUW5xxkbERWDhGJ7R9Hqev+dj9DxQ7Om1eEbPkodnyM2zwmumuzoHZ039X8wm3qbPHHs8Jr8tnSXZ8s+zpmukuzobOQ9n+dQ6nfgrngUchQuY/4SRXk6BNROwhQEdl1etXLHppn0unAw3kenVzvf4BabUgOnnXHHBMWywLc6SYO+qMLJFFmGUYElril1l4N3PC8yy73C9huiCMaM4lciCUQujAKLc2BBH94/4pEIFHvCzD6logER2Htc/h31IQw1WTGwf+S+j1PX/Ox+hK4jTK8PK5riUpNQhLFozyAo6lOXZFcSlGdAGHBwi6/EVxKUJ0IA4KYXauJShqU59k02oQEHdLyIriUozoEbGE1xKVFOrtbCTnZT6v5hKyrKi3ehe4NZVlyBZksKyoNzJZTYVl/CsqLe0u7UXFZUhuQOGfns6TUW5gqgBFZUhuCRBsbuZWFiD+VHWTsUgVg4jQluyAVq55b4Yty9/IVp55YCTqrb0dhl5PiCwreOf9htueZP6mNDVPLFFHrbOwRMrRh/aqeZ5pWdYmhGTOSSAjEAHkKzY4xTOJHHM88mUH+86klYNUG9ogipNRv5cP1o4QgpvallPe7ej1PX/Ox+hOglW6mGxsa4SOk0saujLExBBAo6SO5ONcJHT6VCI04OE2SuEjpdKgDqNFKQHFcJHQ0cYN8Tzp9JGWLtGCSTXCR0dKhWPeQkvgK4SOoNOkTYsklxcD1fzCVarV1KtXjSrV4at/CrV0lq1fLPs6TV0lq1fL7ULxK4wYqHmiVynPmOyQTWqJVjDOY98xhihwKWYh3YizULLjqdLKBAg7Pw/1VgeHGkk0sck5cY2Fsibk1Cm6YQ+bC7jK1x2xUERO/nj1U0ZM5CWJwVPa9RqJwBoteOSuM+7TkEZgVIfblc3bAfqpc2UDuFGUJmohd8Oanka4uMagmN908sen72jDVxSJrG3mP4sWnIu0QDUJQcF3KHd2Cjvvl6EZsxjU9oj+IFA9iNZmtEhHxcXNFgozVCb3IPdWo10enhERAAkLlf0kp54gVrNUmmghl0hCPGZrMGe57AFSzLcmFAveAbhL5D9r1fU9f87H6Hih2dNq8I2fJQ7PkZtnhNdNdnQOzpv6v5hNvU2eNNnhr8tnSXZ8s+zpNXSXZ8vsXvIjBNh/yoSI8kIkFwHANCVIUxhtmS0pUX7XIDma17CCZO2U5qT3XHf3Gs0zml0RjgLIpa5vcAEU0saIiRxGYv2jdhYe7uqGe4zZy8YmCsAyA86imVmXE4nkvwPpopVNLom7wL89655s1LpJ5XbS3Ii3rRoQZABY1rNJOkTdh4ihDBCeTVLoVm18G+fevFGzAoV9wLC4FSaX/wAR0IHfHppExrBhPHOIkia7XsVsnoCNpewwxPZQEnke4CnglklTSQgxaSMoikraNabRamMDNSL3dABWr0jyaSbSwm8TAXyWUVr9AnA6gzHK4WIAoUPJKmjbcmLXkb2OAA3UIBZAfV9T1/zsfobhZ/fDcYsQK80w/VQ8mRR5puzdMw1eaoTZcRyvlXmmH6q82xNvX4SI5Wy7NeaYfqrzZEu6fg5SWtl2q80w/VXmqEXGJ5ZZV5sibBd2LC+VeaYfqo+TYn3uUJw7GVlsK80w/VXAJBzwkscwWPq1/wDuErih9NcSPpqPUABsXtkez3n3muJH00dQMxiycgce4351xI+mn1IKtip5EY8xQ1Q5cv8ADXEj6aTUAF/w1Ob9nma4kfTWqmEij+zPzAsNnSak1YCrkgNgMeQFcaPprVSbyXnB3E2Gxu4GRSov/wA6gaURSQrIpd5LqLNZewouAa8qx/hOW7pUkCu6sK1SylIBqNRI5j055lt0pACtTliQddJE8Rf+W6OdFmKbzV6N4BibXIVmqQsv/lzSlwSqm1xJyrTZiacTYjOcMAFsF5gE3bbGxVkcIbEEV50n+qvOs/1UPKc4sgRTz7VedJ/qo+U57nBARzyrzpP9VHypORcKSP1qHlScc2UE/rV50n+qh5TnBAkiDm5yrzpP9VajXzTROjRObFXNjzGwd4bE0PKuoUFmHOwyrztqPqrWap9SUaQy5WLk2vj6zqev+dj9DxQ7Om1eEbPkodnyM2zwmumuzoHZ039X8wm3qbPHHs8Jr8tnSXZ8s+zpNXSXZ0NnE7lIdL5PcAl8l5mzcq0s+9DRzatIGQs8eB9vmUJFRaoPMDo3VCCpSwyyuDzpdRnMz+Tldy+6xACOIiKj1G/DR6kuAD2VsQU51IlotZi4C8NZQwMeLb0sSDQLCR9VqtQYUBxU1KZ4tMBGiurBzDcB8rAsoAINRSZkpPp0mNyosfbvcEjZ0zX5bOmmzpjZ4DXgGzoDZ0ZdnhO385qeRVklt34KTc0TYAUJBjMWGQEZv2rgX5bYZBIodTYi6+8bAb815HYrgkIxKh7fC4Ivs6nr/nY/Q0ce9l7RhrgB9dTaIKiZRkXc5cgKXQgg9kcx2q4EfXUWjBeL+yRDCQZVwA+un0YDS5aOVMIxlXAD66OiAA7B5ntVHowY3xjAuhy5g1wA+uk0YMsWEJH4gyrgB9da3TCKLspJyvkfV92R4hK4+GuPhrjY1xZn5rz77Vx8NcbD2gWS5v3C1cfDXGwtgMTc2WuPh58q4+GuNiXBt2vZua4+GuJSXI8M/KybOk1ecIFzCoLGx7r15xgoyrNYbjkck2NIzJfWBRNZSbDPEZWFS6iaXCOGRZkVM2NgrICAKzbsx6ggyDv95FEb0JPrFcSSFX5NfM8jSGUJjBmRbfu5ucu4WAFHUSldPIzZsYVyslz3gAA0HZLxq28T2SOaNzB7waGrnE0hmARg8mWTAhQLE2pScLadBFHZb2BCgC4GzpmuMb6K4xvt0dUy2bdryHYNxXGN9uhqmIPYF7nDlXGN9ul1ZJAwNyBhzo6xgSMRYkYVxjfbo6pgAdyLWOFcY326i1DSNluZOVig5bPCafXujFLciV3Rsa84v9moJjMuN5rHIqlNpi7+UUhmzSGCX9UgjmRzFcxaSxBFGGTPSDTaWRHMgI5dogAVHI7wxhpwkz9uHPTy496AEKKillkZIt2t0SZ0iL4sTZgKjBtq9XICXVxbtnIBCp7lp2tFDFG9lEYt/wDtUuomgYa/iTjGSI5SSEOQSwDVA0unaJJNMMzuJY7NFmcjKCGU0qkzRO2tdJ48nFxZaQM0zsoiMEbyBSSFDtj+0RT+27lzcn1/zsfoeKHZ02rwjZ8lDs+Rm2eE1012dA7Om/q/mE29TZ449nhNfls6S7Pln2dJq6S7Oh6IRxuFXVoDnA8ZCyCMndbtjkKhSebB5NEbc5VQuhk5AkWvyqZpSjPIDmAJkRo5Pe6XIHo9M1+Wzpps6Y2eA14Bs6A2dGXZ4Tt/Ob0JWCqo+JJ5CuLjri460jrqIlZyQVcJUEgdT+Y2wTy6eQLJbNcoiCQ1uYpBZEQOQAPX/Ox+geXvhrMUCP3TVkP2RWYrIc/7FDWYq45f2GasxWQ/ZNZD90tZishz/ANZiu/9ST1fzCVxMdcVFT6hBdWfkRz7jXFRUNQmILNHYE37zXFRUupQliymwAvR1UXwrioqbUIA67pRcc+YrioqhlVyBwz8yAdnSam1UYKlY1uCK4uOonDqSIPiPWdM1vl+Fb5aMgGS7tRcfEVvVoSrZckAF63y0JVJJKGwFGVQQQo5VvVoyqAwWEA2rfLSOCbbmTnYbPCaedQykCuISoXDrdTN6EbYtg3wNcTXE1M++neW5yCVLIXeQeh1PX/Ox+hOgYpvLXt8L2rc0YRzrc1uaEIrc1uRyrc1uaEIrc0YRW5pIgHR/iD6thcH8q3Kf0rcp/Styn9K3Kf0rdL/AErcp/Styn9K3Kf0rcp/Styn9K3Kf0pIkUj81GwjkRW5T+lblP6VGgW/+n1nTNYj4ViKKj92lYisR+7FYisR+waxH7ArEViP3ArEV0ZdnhNFRWAoD+M3rIApZZdPcrycEEVw2k+zXDaT7NcNpPs1w2k+zXDaT7NcNpPs1w2k+zXDaT7NcNpPs1w2k+zXDaT7NcNpPs1w2k+zXDaT7NNBpkDvp5VkW5SMG11/9a6Zr8tnTTZ0xs8BrwDZ0Bs6Muzwnb+c3/tVDZgsgINj8a4pPorik+il1SDN/iexXFp9FHVpdcxY27FcWn0UdWliCLEexQ1aWAHID2K4tPooapLuRyF+xXFJ9FanUK8eeJS5AUfHZ77MLUmrQKijuA7FcYn0VrZRKwWHLEDED9r/AOKH/8QAQhEAAQMDAAUIBwQJBAMAAAAAAgABAwQFEhETIjEzBgcUISMyQVIVIECSorLhEEJTcTRQUWFiY3JzwiQ2VGBwg7H/2gAIAQIBAT8A/wDAXR4tHcQU8RD3ENPFt7C6PFl3EVPFlHsKaCIYzIQT7nVy5XcoILhWxR3A2AJTBtlvMrBUTVlmt888mcpxiRl7ZSwxy55p6eLJthFTReRFSxY9xdFh8iCniIe4qgBCTEVy4vVxs1NRyUM7RGcjsewJfMzrkXymvF3up09ZVMcTQEfUAjtaW8reviWjiIBLHiJhLI+0WJZcREJZB2inEtSfaJ9zq61dMNzr2e3Qu7VB9bmfm/NcmiE7HbSGNgZ4B6vbLVTPOM23iioH1kY65SW92Hj+IqSgcYzfXJreWjjqGgcg06xXCLU1Jgucmenhpbdr4CkbWluPDw/J1zd1dHNfJhhoyjPo5dbyZ+Lfu9fb0IMsUOeRrbyRZ5RqfLVGn3OrqFs9J1+dRU6ekHp0Rj5v6lybw9B2zVu7hqB0afbLXUlAM2IZorgetjLUfH9FLcCIeB4+f6KS4GUZjqPj+ia5Ho4Hx/RQ3AhDRqPj+iuErzVJmQYrnIgpJqS3dJnljbWlwwz8PzFc3lNQRXuYqermM+jl34RDxb+J/XzLRw0BFjw0xFkfZrIsuGiIso+zU5dkfZp9zq60UBXOvJ7pTNpqD6naTzf0rk2Ax2O2iMms7Aetvr7ZRliJpz2g7NEf8tEezw1n/LdAezw1UvplXOHTNVUtC3SYotEhcR9C5A0DU14kPpsEnYF1Rnp8W9fMNCAxxQmORrMckRjlGpzHVGn3OrpabgdzrzCmd2eoN295cmozhsdsCTvtAOn2yjIWE8k5jlHtojHzojHHiLMPOgMce+qp9MvUucamnqaS3DDBIeiQu4OS5vqKrpr3IctNKAdHLvho8W9fwQd1D3jX3kXejU/BNFuf8ld2P0rcOp/0mT5lyW0+gLZ/YH2yi3Gn78aNH3D+wO4qvjLnNy6JbdGnikubjL07Np0/o5f/AFvXxHyKMRx7iYRyPYWI5dxEI5R7CnEdSewn3Orrca8LnXiNbOzNUSMzZv5lyaOSWxW0zPM3gH2yywxyjNmDF3UdLT6+LsI/vKWlp2FuwDiB8ympacYpH1Ee5NSUuPAjVPS05R7UAbz+ZXQBCqNgDFlzmVdVSUluKCokjcpS7j6PBc3Fyrqu+TBPVyyB0cuoz/e3r4dXfQBsoQ2jWG14og2o1OHZGn3OrpdjC414dDpH0VB9bwjp3rk5JrrHbZMGDTCPU3U32COW9aAJn0e02+WSNjwPBFPUayPt3+FHPUY8d/hRz1DhJ27/AApqiq/5HyqKeoYdmdVhmc5OZ6VzkSRRUlueSmin7UuJl+z+F2XN7PBJephChhi7AusMv2t5nf1+mSIaqQV0uRdLkyyT1UhI6qQx0P8AZUc3tnqZ55zmqM5JCPvN95UNHFb6OCli04RBi2X2Dlgeh1GPUZZ+02umKcZtB4oreWtjHX/B9VLbyEeO3ufVS28hjMtf8H1TW89HHb3PqoaAijy17e59VcItTUmGS5ypqaKkt2vikPtS7h4eH5Oubqoo5b5M0NPKB9HLvmx+Lfub2EScU5O46G2fabVU6gZtjJFcO0jLUKS4ZDwPEVLcMo5G1Ca5dXAUNwYQ0ahXCXXVJngucemp6mltzT1bQM0hfcc/Bc3tFR097mOG4NOeoLq1ZD4t6/oWq/aCCz1Rjk2CGz1ZObdnsr0PV5Y7CKz1TEDbG0prVUwRnIThiP2VPOLYaWoqIDCozjkIH2G+6qCuiuNHTVcPClDMM/bKMtAmnMcwRmyIxwWYoDHFVL6ZVziUslVSUAgcfELvmIfM7Lm/oJqa8SGZw8Am2JgPxbyu/rNvQzhobYk9wlTzDq90m8/uF5lFOOU+xJxPIXlZa8df3JOH5CUsw5wdUnE8heV1XyiVJMOg+55CT7nV4tlQd0uRNLTddTJvnjb735rkuBR2C1AWjqgHdte2UZCImnMMgRmCIww4izD8RAYYqpfTKucannqKW3NDFJI7SF3G0rm9o6uC9TFNTSgGoLeDt4t6zb0M0Ohu1BU80WrbtG3n8yimhyn7RuJ/iy10Ov4jcNSzRZ0/aNxP8XVfLGVJOLSN3E+51eLZcTulyMLfM7PUyOzsBeZ1yXA4uT9qCQHA2gHS36jdmfeyYWbczes29CzYN+SpWbVt+Z/MombOf+5/iy0N0j/1qVmzp/7n+Lq4t/op/wClPudXo5PS9z2n/SZfmdck/wDbtp0/gD+q+kVH4x+8hnnHdMfvLpFR+MfvLpFR+MfvLpE/4x+8inmIcXmP7CtVrMnIqCByfe+rZRxRwxgEYMADuAf+hf/EAEoRAAAEAgQKBQkFBQgDAAAAAAECAwQABRESE1IGFCIjMTIzQlFhJEFDYnEHEBUgITRAU9FysbLBwhYlgZOzFzBQVWBjcNKDw+L/2gAIAQMBAT8A/wCATewo+EHwjnQKCGO9d0Ie4QzZJaqR71E3QuhC2EM4KRqIPddO6HEY/aGcYpXx3LtLoQhhDODJuzGe6id0LwRJ55NHExapKuq5Dn5QEIsWpkiGFGHRCkcKkLq/GYUTV/LjtQarVK9bdL+cEwlnBmy5xchXIJNwv0hvhNOFDnAznszjqF6i+EN8JpwdwgmZ1rqF3C/SDYUzqvRjIabhfpDvCWcJLVSOezIOoXrKHKMH3i76WprLnrHETffEsbpLmOChK0TFmg3Qrpkyq/rH1TeEHXRtB6Glp731h8siDg3RE9Cd66HOF10bNt0RLZ97iPOLdHE/dEtp3uHjDddGxd9ET2XevhziRrJGmrIpW6ZMvvfXzIENYp5zs4ee8rfb+M8oczIxWlpTtxUrEPoPVhvP0DsHymImyDJ9pxp5QwwhQUVULiBtisO07gjwhjhCgo9aEBgYBFUgbTn4QphI3tFOgG0/M/8AmJphAgi8qixMOaR7TuByjAp2R5IUViJiQK5+fXEuUUTMepD9VQ6VBvWPqm8IOVlajnVdNwv1h8VpbmrKK6qe4W6HOFysrNtnVdncLxHnFVlie0V2lwvDxhuVpYu86rsrhb4c4kYNPSrOqorXr3A+vmQtbFPI3Iee8rU3/jPKDLG75aWmWdKJVCH1CV/zCEJAyJL3iYTBWhQyftsQ596GODzFNVQxZirsVg2IXRC9DHB5gm9aHLMVREFSDsQ4/ag+DbC0P+8VdPyS/wDeJpg+yWdVjTBUM0j2IXA70YGNEmcjRSSWE5LQ+WJavXwpGJcmdQx6kP0TkQrHv+sfVN4Qdqhaj09LT3/pD5skZwHTEtCd66HKFmqVm26Yls+9xHlGLJYp74ltO9w8IbtkrF30xLZd68HKJI3TLNGZivEj5fe+kBCCprFPMKanL6w89rlb7fxmGKNsdlnUya2vCbMMUXDG0tJN7xhqyAqh+lpbI+93RhqyArhAcbS2hN6DMgrj0xLTeh6zAzgOlpbJPe7oRgySzlKJbQD5ZtTxiUHqHWyImilZtRUHX9Y+qbwg7J1ajmOuHzJ0Zwaqhup/hCFWTqzbZjs/zGMSdYnRYdp+UN2ToqTvMdl+sIkbRwnNWZjJ78BCCydinl7kPDVnKwhf+MwzQWVOyskzn1oTZusUXLYKaSbvjDRm6KoelBTZH3O6MNGborhDMKbQm5BmTuuPRVNNwYfM3RnAVUFNknu90IwXTUSlCJTkqGrm++JQcpFFaxomqiZ21AH3/WPqm8IPXtR06Yf1sYNp2Sf4QhetYtdOz/WMZWJ9e0/TDatYvtOz/WESGt6XZadeAhvRYofYh970v9v4zDWm2l9Fw8JVsUd6dJPzhnWtT6dkf8Iw0rY0307Qn3wavademJhWxgNOyT/CEYKU+hkab5/viS7RaJvRiwfb9Y+qbwg7p1aj0g+m8MPnLgHBqHB9VPeG6ELunVRr0g+zvDxGMadYnTjB9peHhDdy5sXfSD7K8N8IkTpweasimVPVr3hgIQSSsU8jch4WhysAX/jPKa/eMl5UDd0olWIpTUPVhtOpqMsmJxmLgRBRGga484l06mx1lANMnA9HW3x6kxiWzubHfsynmTgQFUgCFcb0Hns5tD/vJxpvjE4nU2Te1STFwGZR3x60wjAJyu6wdbqLqHOe0Pln8YZax4eBmvWPqm8IO+PajmEtPyyw+enKubMJaCbhboQs9PZtswls7heIxjp8UrWCW0uF4Q3enFJ3mEtlcLeCJI8MpNGZbFLXuBAQijmU84pqXoeFquVg8wjRFJg0/E4cpNlVmFs0TWyD69b9IhCLaXAydlCWJUUkpDK584ZtJcVQ9WWJBmlL10ecM2suB03EssSAbQl/j4wdpK64/utHT/ufWJi2lxnQCaWJDmk710OcYJERJJUSpIAmSufIDx70SpEqplaYmTcqaFYB3/WEKQEIHA2WiNNsvpvBC2CMvXUA5l19AcIPgfLjlIUV18nw408I/ZGXWVlbL0fw+kEwQl6ZVCguvlhV6uIDw5Q0wWYs3KLgiylcnh5iTVchSFAhIVUMqoc5tJvMOtBuHxPlDmaDBaWgogoesQ+g9T8hhvP2h2DxTEVcgU/Zbcae7DDCBooqoAMVdisO27ojdhjhC0UesyAxVClUgbYOP2YPhGztD9BV0/OD/rE0nzRF3VMxVHNI9t3A7sYFuiPJEiqRMSBXPvVuvwCJaoZMx6sTBZRRCqN/4EQpgC0e34nyhypOYrS0x3djUIfcE0N8HEiS94n6TJnDJ+2obqphjg2kmqoYJmQcysGzN1lEIY4NJJvGigTQg1FSDRZm4wfBdG0OPpVPT8s0TTBxJZ5WGZkDNI7huogRgWzBjIkUQXtM4fL/AIxLyHOY9SHySpEaTk9YRoARg3lMwfKYS1HWm4EOfKLI2itkdNxWoIOqG+FaFfKRIUioHMm4zydfUC8JY/tHkVhb2bipaVNQIS8o0iWIucqbjMp1z5AXgLEuw/kszeIs0COLVU9UlcoeYGaolpgxDENVH4zDNBRY7KrZ72ucC8OIhCTJXFFy109JO1Jz5w1ZKlUPlp7I/akujzhoyWK5QNXT2hO1J9YMxWr66f8ANJ9YfMljOANXT2SfakuhzjBhMyUpRKa+beA3XyiUHKRRamJoqB21AX7o+sfUN4DCsrXtlc+21h7dP6xOpaud8YwKttkjpXTDsw5w8lq5m8tC0bexv1rp3zc49Gr+ialo296p26d3xhlLVytpqFo29rYvbp/MLzjBOXLpYQytQyjfbBoWTN9w+ZM+bJC+1P8AGYZoLLKsrNIT60JNXWKOgxdXSTc8YaNXQKHpbq7I+53Rhq0dA6Qpbq7Qm5zgzN1XHoyum5D9q6M4Chursk9zuhGC5DpydEqidQa5vviTnKVRatE1OQzbJOGv6x9Q3gMKyyY2yvQHGsPZmidS5+d+YxWawhZI6CD8sIey1+ZvLKGCw0N7hr5o9HP/AETUxFWnGqaKhrsMpa/K2mwGZK+1sXcN8wsYJS98jhDKlFGapCWwUiJB8xDksyZcL7U/xggA6QigOARQHAIoDgEUBwCKA4B/cn2ZvAYVOrbK5ZtYYnh1MfPlDsUP6YQ9Opi8syh92/8AYaK6nobXH3r9MMTqYrNsofdi/wBUsYHnU/aSVadsHmT2ZIX2x/8AC/Q8p/y5v/LCDSqVnNWNL0B/8YQMplZqKZeh7NGbCPRUrq1fR6FXhZhASmVlA4BL0MvTmwhKVy1FQiibBAhy6DlIHmtFL8U0/wCgv//Z)"
      ]
    },
    {
      "cell_type": "markdown",
      "metadata": {
        "id": "MB-_K47VdwZD"
      },
      "source": [
        "Let’s define our dependent and independent variables. \n",
        "\n",
        "- y: Dependent will be *Output*, because we want to predict whether athe Output is 0 or 1.\n",
        "\n",
        "- X: Independent will be remaining variables. Given below is the code for the partition."
      ]
    },
    {
      "cell_type": "code",
      "execution_count": 12,
      "metadata": {
        "id": "7s-NiNMQd35W"
      },
      "outputs": [],
      "source": [
        "# Define X and Y\n",
        "X = heart\n",
        "y = X.pop(\"output\")"
      ]
    },
    {
      "cell_type": "markdown",
      "metadata": {
        "id": "APr8N1LH0adI"
      },
      "source": [
        "Before splitting we will scale our data using the Standard scaler before using it for training our model."
      ]
    },
    {
      "cell_type": "code",
      "execution_count": 13,
      "metadata": {
        "id": "42O2mkozeETi"
      },
      "outputs": [],
      "source": [
        "from sklearn.preprocessing import StandardScaler, MinMaxScaler\n",
        "\n",
        "# Feature Scaling / Standardizing the data\n",
        "scaler = StandardScaler() # or MinMaxScaler()\n",
        "X = scaler.fit_transform(X)"
      ]
    },
    {
      "cell_type": "code",
      "execution_count": 14,
      "metadata": {
        "id": "BwWJcunMeRLC"
      },
      "outputs": [],
      "source": [
        "from sklearn.model_selection import train_test_split\n",
        "\n",
        "# Data splitting (Train - Test)\n",
        "X_train, X_test, y_train, y_test = train_test_split(X, y,  test_size=0.20, random_state=0)\n",
        "\n",
        "X = pd.DataFrame(X)"
      ]
    },
    {
      "cell_type": "code",
      "execution_count": 19,
      "metadata": {
        "colab": {
          "base_uri": "https://localhost:8080/"
        },
        "id": "gGQE1LsjEv6h",
        "outputId": "39ec7bdb-ed6e-49e7-ef9e-13e53d4954c7"
      },
      "outputs": [
        {
          "name": "stdout",
          "output_type": "stream",
          "text": [
            "The shape of X_train is       (241, 13)\n",
            "The shape of X_test is        (61, 13)\n",
            "The shape of y_train is       (241,)\n",
            "The shape of y_test is        (61,)\n"
          ]
        }
      ],
      "source": [
        "print(\"The shape of X_train is      \", X_train.shape)\n",
        "print(\"The shape of X_test is       \",X_test.shape)\n",
        "print(\"The shape of y_train is      \",y_train.shape)\n",
        "print(\"The shape of y_test is       \",y_test.shape)"
      ]
    },
    {
      "cell_type": "markdown",
      "metadata": {
        "id": "jCS3ksN7ehQo"
      },
      "source": [
        "# 6.Creating Pipeline"
      ]
    },
    {
      "cell_type": "code",
      "execution_count": 15,
      "metadata": {
        "id": "paj5b22xejHE"
      },
      "outputs": [],
      "source": [
        "# import libraries\n",
        "from sklearn.pipeline import make_pipeline\n",
        "from sklearn.impute import SimpleImputer\n",
        "from sklearn.preprocessing import OneHotEncoder\n",
        "\n",
        "# creating categorical and numerical pipelines\n",
        "X_cat_columns = X.select_dtypes(exclude=\"number\").copy().columns\n",
        "X_num_columns = X.select_dtypes(include=\"number\").copy().columns\n",
        "\n",
        "\n",
        "# create numerical pipeline, filling the missing values in numerical columns using SimpleImputer \n",
        "numeric_pipe = make_pipeline(\n",
        "    SimpleImputer(strategy=\"mean\"))\n",
        " \n",
        "# create categorical pipeline, filling the missing values in categorical columns using SimpleImputer and OneHotEncoder\n",
        "categoric_pipe = make_pipeline(\n",
        "    SimpleImputer(strategy=\"constant\", fill_value=\"N_A\"),\n",
        "    OneHotEncoder(handle_unknown='ignore', sparse_output=False)\n",
        ")\n",
        "\n",
        "# define the preprocessing steps\n",
        "from sklearn.compose import ColumnTransformer\n",
        "\n",
        "preprocessor = ColumnTransformer(\n",
        "    transformers=[\n",
        "        (\"num_pipe\", numeric_pipe, X_num_columns),\n",
        "        (\"cat_pipe\", categoric_pipe, X_cat_columns),\n",
        "    ]\n",
        ")"
      ]
    },
    {
      "cell_type": "markdown",
      "metadata": {
        "id": "zOHgeqZumtnA"
      },
      "source": [
        "# 7.Applying algorithms"
      ]
    },
    {
      "cell_type": "markdown",
      "metadata": {
        "id": "7NsM4iMUw8kF"
      },
      "source": [
        "We will be applying some models on the data set and compare Accuracy Scores."
      ]
    },
    {
      "cell_type": "code",
      "execution_count": 16,
      "metadata": {
        "id": "e1EPQH1rhRvx"
      },
      "outputs": [],
      "source": [
        "models = pd.DataFrame(columns=[\"Model\",\"Accuracy Score\"])"
      ]
    },
    {
      "cell_type": "code",
      "execution_count": 17,
      "metadata": {
        "id": "4_zt77D90mYQ"
      },
      "outputs": [],
      "source": [
        "def compute(y_pred,y_test):\n",
        "\n",
        "    #Output plot\n",
        "    cm=confusion_matrix(y_test,y_pred)\n",
        "    class_label = [\"High-risk\", \"Low-risk\"]\n",
        "    df_cm = pd.DataFrame(cm, index=class_label,columns=class_label)\n",
        "    sns.heatmap(df_cm,annot=True,cmap='Reds',linewidths=2,fmt='d')\n",
        "    plt.title(\"Confusion Matrix\",fontsize=15)\n",
        "    plt.xlabel(\"Predicted Values\")\n",
        "    plt.ylabel(\"Actual Values\")\n",
        "    plt.show()\n",
        "\n",
        "    #Calculate Metrics\n",
        "    acc=accuracy_score(y_test,y_pred)\n",
        "    mse=mean_squared_error(y_test,y_pred)\n",
        "    precision, recall, fscore, train_support = score(y_test, y_pred, pos_label=1, average='binary')\n",
        "    print('Precision: {} \\nRecall: {} \\nF1-Score: {} \\nAccuracy: {} %\\nMean Square Error: {}'.format(\n",
        "        round(precision, 3), round(recall, 3), round(fscore,3), round((acc*100),3), round((mse),3)))"
      ]
    },
    {
      "cell_type": "markdown",
      "metadata": {
        "id": "eW3TtqWWwJ4u"
      },
      "source": [
        "## 6.8.Support Vector Classifier"
      ]
    },
    {
      "cell_type": "code",
      "execution_count": 18,
      "metadata": {
        "colab": {
          "base_uri": "https://localhost:8080/"
        },
        "id": "XKKzhWH9wIZ9",
        "outputId": "fdfe730a-186d-4e0e-bafe-7f32e1e5f34f"
      },
      "outputs": [
        {
          "name": "stdout",
          "output_type": "stream",
          "text": [
            "Svc Accuracy: % 93.443\n"
          ]
        }
      ],
      "source": [
        "# create a pipeline for the model\n",
        "svc_pipeline = make_pipeline(preprocessor, \n",
        "                                       SVC(kernel='rbf')).set_output(transform='pandas')                                                                                                             \n",
        "\n",
        "# fit the model on the training set\n",
        "svc_pipeline.fit(X_train, y_train)\n",
        "\n",
        "# predict on the test set for the model\n",
        "svc_y_pred = svc_pipeline.predict(X_test)\n",
        "\n",
        "svc_accuracy = accuracy_score(y_test, svc_y_pred)\n",
        "print(\"Svc Accuracy: %\", round((svc_accuracy*100),3))"
      ]
    },
    {
      "cell_type": "code",
      "execution_count": 19,
      "metadata": {
        "colab": {
          "base_uri": "https://localhost:8080/",
          "height": 563
        },
        "id": "-h098t3I2JIG",
        "outputId": "a7a171ff-cb85-40e1-aa8b-e42cd9902e36"
      },
      "outputs": [
        {
          "data": {
            "image/png": "[encoded data removed]",
            "text/plain": [
              "<Figure size 640x480 with 2 Axes>"
            ]
          },
          "metadata": {},
          "output_type": "display_data"
        },
        {
          "name": "stdout",
          "output_type": "stream",
          "text": [
            "Precision: 0.969 \n",
            "Recall: 0.912 \n",
            "F1-Score: 0.939 \n",
            "Accuracy: 93.443 %\n",
            "Mean Square Error: 0.066\n"
          ]
        }
      ],
      "source": [
        "compute(svc_y_pred,y_test)"
      ]
    },
    {
      "cell_type": "markdown",
      "metadata": {
        "id": "NHuc_luPK0yo"
      },
      "source": [
        "It shows SVC is the best fit for this dataset because the accuracy 93%. Let's try to increase the efficiency by Hyper tuning."
      ]
    },
    {
      "cell_type": "code",
      "execution_count": 20,
      "metadata": {
        "colab": {
          "base_uri": "https://localhost:8080/"
        },
        "id": "fNU3GwXdKF5Z",
        "outputId": "5051da08-f097-4e01-ef13-e522aa19f724"
      },
      "outputs": [
        {
          "name": "stdout",
          "output_type": "stream",
          "text": [
            "Accuracy: 0.9344262295081968\n",
            "Confusion matrix:\n",
            " [[26  1]\n",
            " [ 3 31]]\n"
          ]
        }
      ],
      "source": [
        "svc = SVC(kernel = 'rbf',C = 1, degree = 5, random_state = 0)\n",
        "svc.fit(X_train,y_train)\n",
        "svc_pred = svc.predict(X_test)\n",
        "print(\"Accuracy:\",accuracy_score(y_test,svc_pred))\n",
        "print(\"Confusion matrix:\\n\",confusion_matrix(y_test,svc_pred))"
      ]
    },
    {
      "cell_type": "markdown",
      "metadata": {
        "id": "_8kyBYFfK4UP"
      },
      "source": [
        "The accuracy remains same."
      ]
    },
    {
      "cell_type": "markdown",
      "metadata": {
        "id": "jkgvIh1ez6tG"
      },
      "source": [
        "# 9.Conclusions"
      ]
    },
    {
      "cell_type": "markdown",
      "metadata": {
        "id": "DcCBCdF6z9SU"
      },
      "source": [
        "Most of the models are performing really well.\n",
        "\n",
        "SVC is performing the best for the given dataset."
      ]
    },
    {
      "cell_type": "code",
      "execution_count": 22,
      "metadata": {
        "id": "BiGbqwcv9oRt"
      },
      "outputs": [],
      "source": [
        "import pickle\n",
        "\n",
        "pickle.dump(svc_pipeline, open('svc_model.pkl', 'wb'))"
      ]
    }
  ],
  "metadata": {
    "colab": {
      "collapsed_sections": [
        "nGCSQN7O-C-R",
        "BX2b8Fo0Bv8R",
        "AGW6T2amddT4",
        "jCS3ksN7ehQo"
      ],
      "provenance": [],
      "toc_visible": true
    },
    "kernelspec": {
      "display_name": "base",
      "language": "python",
      "name": "python3"
    },
    "language_info": {
      "codemirror_mode": {
        "name": "ipython",
        "version": 3
      },
      "file_extension": ".py",
      "mimetype": "text/x-python",
      "name": "python",
      "nbconvert_exporter": "python",
      "pygments_lexer": "ipython3",
      "version": "3.9.13"
    },
    "vscode": {
      "interpreter": {
        "hash": "91c6af5f4d3e65348c205df32294afdd1848adbfdae5404287e11d66032ae99d"
      }
    }
  },
  "nbformat": 4,
  "nbformat_minor": 0
}
